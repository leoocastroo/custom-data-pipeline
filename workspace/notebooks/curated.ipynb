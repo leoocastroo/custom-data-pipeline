{
 "cells": [
  {
   "cell_type": "code",
   "execution_count": 20,
   "id": "e0efa723-6144-4244-925e-ffdbeef7b4bb",
   "metadata": {
    "tags": []
   },
   "outputs": [],
   "source": [
    "from delta import configure_spark_with_delta_pip\n",
    "from delta.tables import DeltaTable\n",
    "from pyspark.sql import SparkSession\n",
    "from pyspark.sql.functions import col"
   ]
  },
  {
   "cell_type": "code",
   "execution_count": 21,
   "id": "df31a989-02b7-4952-9732-332f0e6d8cf5",
   "metadata": {
    "tags": []
   },
   "outputs": [],
   "source": [
    "builder = SparkSession.builder.master(\"spark://spark-master:7077\").appName(\"curatedApp\") \\\n",
    "    .config(\"spark.sql.extensions\", \"io.delta.sql.DeltaSparkSessionExtension\") \\\n",
    "    .config(\"spark.sql.catalog.spark_catalog\", \"org.apache.spark.sql.delta.catalog.DeltaCatalog\")\n",
    "\n",
    "spark = configure_spark_with_delta_pip(builder).getOrCreate()"
   ]
  },
  {
   "cell_type": "code",
   "execution_count": 22,
   "id": "2b23f67c-c02e-43ab-bd61-35cc3ca2cbd9",
   "metadata": {
    "tags": []
   },
   "outputs": [],
   "source": [
    "df = spark.read.format('delta').load('/opt/workspace/data/cleaned/iris/')"
   ]
  },
  {
   "cell_type": "code",
   "execution_count": 23,
   "id": "6bea6f04-f0ec-4cf3-bef4-8ad78b84c5a2",
   "metadata": {
    "tags": []
   },
   "outputs": [],
   "source": [
    "df = (\n",
    "    df\n",
    "    .groupBy('Species')\n",
    "    .agg({\n",
    "        'SepalLengthCm': 'sum', \n",
    "        'SepalWidthCm': 'sum', \n",
    "        'PetalLengthCm': 'sum', \n",
    "        'PetalWidthCm': 'sum'}\n",
    "    ).withColumn('sum_petal_widhcm', col('sum(PetalWidthCm)').cast('decimal(12, 2)'))\n",
    "    .withColumn('sum_sepal_widhcm', col('sum(SepalWidthCm)').cast('decimal(12, 2)'))\n",
    "    .withColumn('sum_petal_lengthcm', col('sum(PetalLengthCm)').cast('decimal(12, 2)'))\n",
    "    .withColumn('sum_sepal_lengthcm', col('sum(SepalLengthCm)').cast('decimal(12, 2)'))\n",
    "    .select(\n",
    "        'sum_petal_widhcm',\n",
    "        'sum_sepal_widhcm',\n",
    "        'sum_petal_lengthcm',\n",
    "        'sum_sepal_lengthcm'\n",
    "    )\n",
    ")"
   ]
  },
  {
   "cell_type": "code",
   "execution_count": 24,
   "id": "4c6fd382-a8eb-4d25-a7a3-f39e83dff263",
   "metadata": {
    "tags": []
   },
   "outputs": [],
   "source": [
    "df.write.mode('overwrite').format('delta').save('/opt/workspace/data/curated/iris/')"
   ]
  },
  {
   "cell_type": "code",
   "execution_count": 25,
   "id": "83df344c-8ce2-4862-a3c0-685ddc1fd092",
   "metadata": {
    "tags": []
   },
   "outputs": [],
   "source": [
    "spark.stop()"
   ]
  }
 ],
 "metadata": {
  "kernelspec": {
   "display_name": "Python 3 (ipykernel)",
   "language": "python",
   "name": "python3"
  },
  "language_info": {
   "codemirror_mode": {
    "name": "ipython",
    "version": 3
   },
   "file_extension": ".py",
   "mimetype": "text/x-python",
   "name": "python",
   "nbconvert_exporter": "python",
   "pygments_lexer": "ipython3",
   "version": "3.10.10"
  }
 },
 "nbformat": 4,
 "nbformat_minor": 5
}
