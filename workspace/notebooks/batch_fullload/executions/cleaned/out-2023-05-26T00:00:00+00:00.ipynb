{
 "cells": [
  {
   "cell_type": "code",
   "execution_count": 1,
   "id": "b0f14de5",
   "metadata": {
    "execution": {
     "iopub.execute_input": "2023-05-27T04:06:18.652104Z",
     "iopub.status.busy": "2023-05-27T04:06:18.651859Z",
     "iopub.status.idle": "2023-05-27T04:06:18.657545Z",
     "shell.execute_reply": "2023-05-27T04:06:18.657121Z"
    },
    "jupyter": {
     "source_hidden": true
    },
    "papermill": {
     "duration": 0.01061,
     "end_time": "2023-05-27T04:06:18.658671",
     "exception": false,
     "start_time": "2023-05-27T04:06:18.648061",
     "status": "completed"
    },
    "tags": [
     "injected-parameters"
    ]
   },
   "outputs": [],
   "source": [
    "# Parameters\n",
    "execution_date = \"2023-05-26T00:00:00+00:00\"\n"
   ]
  },
  {
   "cell_type": "code",
   "execution_count": 2,
   "id": "86a16657-dcc1-47f1-839f-bd0dfea25df6",
   "metadata": {
    "execution": {
     "iopub.execute_input": "2023-05-27T04:06:18.661734Z",
     "iopub.status.busy": "2023-05-27T04:06:18.661582Z",
     "iopub.status.idle": "2023-05-27T04:06:18.765502Z",
     "shell.execute_reply": "2023-05-27T04:06:18.764951Z"
    },
    "jupyter": {
     "source_hidden": true
    },
    "papermill": {
     "duration": 0.107542,
     "end_time": "2023-05-27T04:06:18.767467",
     "exception": false,
     "start_time": "2023-05-27T04:06:18.659925",
     "status": "completed"
    },
    "tags": []
   },
   "outputs": [],
   "source": [
    "from delta import configure_spark_with_delta_pip\n",
    "from delta.tables import DeltaTable\n",
    "from pyspark.sql import SparkSession"
   ]
  },
  {
   "cell_type": "code",
   "execution_count": 3,
   "id": "f936bb08-2048-4a91-b9bc-db6e705a031c",
   "metadata": {
    "execution": {
     "iopub.execute_input": "2023-05-27T04:06:18.770831Z",
     "iopub.status.busy": "2023-05-27T04:06:18.770625Z",
     "iopub.status.idle": "2023-05-27T04:06:21.602788Z",
     "shell.execute_reply": "2023-05-27T04:06:21.602237Z"
    },
    "jupyter": {
     "source_hidden": true
    },
    "papermill": {
     "duration": 2.835628,
     "end_time": "2023-05-27T04:06:21.604422",
     "exception": false,
     "start_time": "2023-05-27T04:06:18.768794",
     "status": "completed"
    },
    "tags": []
   },
   "outputs": [
    {
     "name": "stderr",
     "output_type": "stream",
     "text": [
      "/home/airflow/.local/lib/python3.7/site-packages/pyspark/bin/load-spark-env.sh: line 68: ps: command not found\n"
     ]
    },
    {
     "name": "stdout",
     "output_type": "stream",
     "text": [
      ":: loading settings :: url = jar:file:/home/airflow/.local/lib/python3.7/site-packages/pyspark/jars/ivy-2.5.1.jar!/org/apache/ivy/core/settings/ivysettings.xml\n"
     ]
    },
    {
     "name": "stderr",
     "output_type": "stream",
     "text": [
      "Ivy Default Cache set to: /home/airflow/.ivy2/cache\n",
      "The jars for the packages stored in: /home/airflow/.ivy2/jars\n",
      "io.delta#delta-core_2.12 added as a dependency\n",
      ":: resolving dependencies :: org.apache.spark#spark-submit-parent-76dfe7a2-9871-4671-b651-a60e30686cf5;1.0\n",
      "\tconfs: [default]\n",
      "\tfound io.delta#delta-core_2.12;2.2.0 in central\n",
      "\tfound io.delta#delta-storage;2.2.0 in central\n",
      "\tfound org.antlr#antlr4-runtime;4.8 in central\n",
      ":: resolution report :: resolve 156ms :: artifacts dl 7ms\n",
      "\t:: modules in use:\n",
      "\tio.delta#delta-core_2.12;2.2.0 from central in [default]\n",
      "\tio.delta#delta-storage;2.2.0 from central in [default]\n",
      "\torg.antlr#antlr4-runtime;4.8 from central in [default]\n",
      "\t---------------------------------------------------------------------\n",
      "\t|                  |            modules            ||   artifacts   |\n",
      "\t|       conf       | number| search|dwnlded|evicted|| number|dwnlded|\n",
      "\t---------------------------------------------------------------------\n",
      "\t|      default     |   3   |   0   |   0   |   0   ||   3   |   0   |\n",
      "\t---------------------------------------------------------------------\n",
      ":: retrieving :: org.apache.spark#spark-submit-parent-76dfe7a2-9871-4671-b651-a60e30686cf5\n",
      "\tconfs: [default]\n",
      "\t0 artifacts copied, 3 already retrieved (0kB/4ms)\n"
     ]
    },
    {
     "name": "stdout",
     "output_type": "stream",
     "text": [
      "23/05/27 04:06:20 WARN NativeCodeLoader: Unable to load native-hadoop library for your platform... using builtin-java classes where applicable\n"
     ]
    },
    {
     "name": "stderr",
     "output_type": "stream",
     "text": [
      "Setting default log level to \"WARN\".\n",
      "To adjust logging level use sc.setLogLevel(newLevel). For SparkR, use setLogLevel(newLevel).\n"
     ]
    }
   ],
   "source": [
    "builder = SparkSession.builder.master(\"spark://spark-master:7077\").appName(\"cleanedApp\") \\\n",
    "    .config(\"spark.sql.extensions\", \"io.delta.sql.DeltaSparkSessionExtension\") \\\n",
    "    .config(\"spark.sql.catalog.spark_catalog\", \"org.apache.spark.sql.delta.catalog.DeltaCatalog\")\n",
    "\n",
    "spark = configure_spark_with_delta_pip(builder).getOrCreate()"
   ]
  },
  {
   "cell_type": "code",
   "execution_count": 4,
   "id": "733f59bf-0d36-4b08-8241-756d5086d41a",
   "metadata": {
    "execution": {
     "iopub.execute_input": "2023-05-27T04:06:21.609103Z",
     "iopub.status.busy": "2023-05-27T04:06:21.608822Z",
     "iopub.status.idle": "2023-05-27T04:06:31.269558Z",
     "shell.execute_reply": "2023-05-27T04:06:31.268807Z"
    },
    "jupyter": {
     "source_hidden": true
    },
    "papermill": {
     "duration": 9.665597,
     "end_time": "2023-05-27T04:06:31.271698",
     "exception": false,
     "start_time": "2023-05-27T04:06:21.606101",
     "status": "completed"
    },
    "tags": []
   },
   "outputs": [
    {
     "name": "stdout",
     "output_type": "stream",
     "text": [
      "23/05/27 04:06:24 WARN package: Truncated the string representation of a plan since it was too large. This behavior can be adjusted by setting 'spark.sql.debug.maxToStringFields'.\n"
     ]
    },
    {
     "name": "stderr",
     "output_type": "stream",
     "text": [
      "\r",
      "[Stage 0:>                                                          (0 + 1) / 2]\r"
     ]
    },
    {
     "name": "stderr",
     "output_type": "stream",
     "text": [
      "\r",
      "[Stage 2:>                                                         (0 + 1) / 50]\r",
      "\r",
      "[Stage 2:=>                                                        (1 + 1) / 50]\r"
     ]
    },
    {
     "name": "stderr",
     "output_type": "stream",
     "text": [
      "\r",
      "[Stage 2:===>                                                      (3 + 1) / 50]\r",
      "\r",
      "[Stage 2:=====>                                                    (5 + 1) / 50]\r"
     ]
    },
    {
     "name": "stderr",
     "output_type": "stream",
     "text": [
      "\r",
      "[Stage 2:============>                                            (11 + 1) / 50]\r",
      "\r",
      "[Stage 2:=================>                                       (15 + 1) / 50]\r"
     ]
    },
    {
     "name": "stderr",
     "output_type": "stream",
     "text": [
      "\r",
      "[Stage 2:=======================>                                 (21 + 1) / 50]\r",
      "\r",
      "[Stage 2:==============================>                          (27 + 1) / 50]\r"
     ]
    },
    {
     "name": "stderr",
     "output_type": "stream",
     "text": [
      "\r",
      "[Stage 2:======================================>                  (34 + 1) / 50]\r",
      "\r",
      "[Stage 2:===============================================>         (42 + 1) / 50]\r"
     ]
    },
    {
     "name": "stderr",
     "output_type": "stream",
     "text": [
      "\r",
      "[Stage 2:=======================================================> (49 + 1) / 50]\r"
     ]
    },
    {
     "name": "stderr",
     "output_type": "stream",
     "text": [
      "\r",
      "                                                                                \r"
     ]
    }
   ],
   "source": [
    "df = spark.read.format('delta').load('/opt/workspace/data/raw/iris/')"
   ]
  },
  {
   "cell_type": "code",
   "execution_count": 5,
   "id": "721e2f77-97f7-4c66-b4b2-51e2058ee2fc",
   "metadata": {
    "execution": {
     "iopub.execute_input": "2023-05-27T04:06:31.280342Z",
     "iopub.status.busy": "2023-05-27T04:06:31.279658Z",
     "iopub.status.idle": "2023-05-27T04:06:31.306094Z",
     "shell.execute_reply": "2023-05-27T04:06:31.305449Z"
    },
    "jupyter": {
     "source_hidden": true
    },
    "papermill": {
     "duration": 0.033215,
     "end_time": "2023-05-27T04:06:31.308373",
     "exception": false,
     "start_time": "2023-05-27T04:06:31.275158",
     "status": "completed"
    },
    "tags": []
   },
   "outputs": [],
   "source": [
    "df = df.drop_duplicates()"
   ]
  },
  {
   "cell_type": "code",
   "execution_count": 6,
   "id": "c095cd88-4d44-42bb-9efb-c320c8e13a48",
   "metadata": {
    "execution": {
     "iopub.execute_input": "2023-05-27T04:06:31.317117Z",
     "iopub.status.busy": "2023-05-27T04:06:31.316860Z",
     "iopub.status.idle": "2023-05-27T04:06:38.291940Z",
     "shell.execute_reply": "2023-05-27T04:06:38.291488Z"
    },
    "jupyter": {
     "source_hidden": true
    },
    "papermill": {
     "duration": 6.981572,
     "end_time": "2023-05-27T04:06:38.293184",
     "exception": false,
     "start_time": "2023-05-27T04:06:31.311612",
     "status": "completed"
    },
    "tags": []
   },
   "outputs": [
    {
     "name": "stderr",
     "output_type": "stream",
     "text": [
      "\r",
      "[Stage 8:=============>                                           (12 + 1) / 50]\r",
      "\r",
      "[Stage 8:======================>                                  (20 + 1) / 50]\r"
     ]
    },
    {
     "name": "stderr",
     "output_type": "stream",
     "text": [
      "\r",
      "[Stage 8:===============================>                         (28 + 1) / 50]\r",
      "\r",
      "[Stage 8:=========================================>               (36 + 1) / 50]\r"
     ]
    },
    {
     "name": "stderr",
     "output_type": "stream",
     "text": [
      "\r",
      "[Stage 8:===================================================>     (45 + 1) / 50]\r",
      "\r",
      "                                                                                \r"
     ]
    },
    {
     "name": "stderr",
     "output_type": "stream",
     "text": [
      "\r",
      "[Stage 13:========================================>               (36 + 1) / 50]\r",
      "\r",
      "                                                                                \r"
     ]
    },
    {
     "name": "stderr",
     "output_type": "stream",
     "text": [
      "\r",
      "[Stage 14:>                                                         (0 + 1) / 1]\r"
     ]
    },
    {
     "name": "stderr",
     "output_type": "stream",
     "text": [
      "\r",
      "                                                                                \r"
     ]
    },
    {
     "name": "stderr",
     "output_type": "stream",
     "text": [
      "\r",
      "[Stage 21:====================>                                   (18 + 1) / 50]\r",
      "\r",
      "[Stage 21:==============================>                         (27 + 1) / 50]\r"
     ]
    },
    {
     "name": "stderr",
     "output_type": "stream",
     "text": [
      "\r",
      "[Stage 21:=========================================>              (37 + 1) / 50]\r",
      "\r",
      "[Stage 21:====================================================>   (47 + 1) / 50]\r"
     ]
    },
    {
     "name": "stderr",
     "output_type": "stream",
     "text": [
      "\r",
      "                                                                                \r"
     ]
    }
   ],
   "source": [
    "df.write.mode('overwrite').format('delta').save('/opt/workspace/data/cleaned/iris/')"
   ]
  },
  {
   "cell_type": "code",
   "execution_count": 7,
   "id": "0dbd4b0a-0425-4d2f-acb5-a2bb19c5b351",
   "metadata": {
    "execution": {
     "iopub.execute_input": "2023-05-27T04:06:38.299519Z",
     "iopub.status.busy": "2023-05-27T04:06:38.299139Z",
     "iopub.status.idle": "2023-05-27T04:06:38.501746Z",
     "shell.execute_reply": "2023-05-27T04:06:38.501111Z"
    },
    "jupyter": {
     "source_hidden": true
    },
    "papermill": {
     "duration": 0.207691,
     "end_time": "2023-05-27T04:06:38.503355",
     "exception": false,
     "start_time": "2023-05-27T04:06:38.295664",
     "status": "completed"
    },
    "tags": []
   },
   "outputs": [],
   "source": [
    "spark.stop()"
   ]
  }
 ],
 "metadata": {
  "kernelspec": {
   "display_name": "Python 3 (ipykernel)",
   "language": "python",
   "name": "python3"
  },
  "language_info": {
   "codemirror_mode": {
    "name": "ipython",
    "version": 3
   },
   "file_extension": ".py",
   "mimetype": "text/x-python",
   "name": "python",
   "nbconvert_exporter": "python",
   "pygments_lexer": "ipython3",
   "version": "3.7.16"
  },
  "papermill": {
   "default_parameters": {},
   "duration": 23.682307,
   "end_time": "2023-05-27T04:06:41.124239",
   "environment_variables": {},
   "exception": null,
   "input_path": "/opt/workspace/notebooks/cleaned.ipynb",
   "output_path": "/opt/workspace/notebooks/executions/cleaned/out-2023-05-26T00:00:00+00:00.ipynb",
   "parameters": {
    "execution_date": "2023-05-26T00:00:00+00:00"
   },
   "start_time": "2023-05-27T04:06:17.441932",
   "version": "2.4.0"
  }
 },
 "nbformat": 4,
 "nbformat_minor": 5
}