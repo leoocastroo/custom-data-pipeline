{
 "cells": [
  {
   "cell_type": "code",
   "execution_count": 1,
   "id": "4bd2fdec",
   "metadata": {
    "execution": {
     "iopub.execute_input": "2023-04-04T20:26:21.580374Z",
     "iopub.status.busy": "2023-04-04T20:26:21.580105Z",
     "iopub.status.idle": "2023-04-04T20:26:21.585238Z",
     "shell.execute_reply": "2023-04-04T20:26:21.584836Z"
    },
    "jupyter": {
     "source_hidden": true
    },
    "papermill": {
     "duration": 0.009793,
     "end_time": "2023-04-04T20:26:21.586365",
     "exception": false,
     "start_time": "2023-04-04T20:26:21.576572",
     "status": "completed"
    },
    "tags": [
     "injected-parameters"
    ]
   },
   "outputs": [],
   "source": [
    "# Parameters\n",
    "execution_date = \"2023-04-03T00:00:00+00:00\"\n"
   ]
  },
  {
   "cell_type": "code",
   "execution_count": 2,
   "id": "86a16657-dcc1-47f1-839f-bd0dfea25df6",
   "metadata": {
    "execution": {
     "iopub.execute_input": "2023-04-04T20:26:21.590131Z",
     "iopub.status.busy": "2023-04-04T20:26:21.589691Z",
     "iopub.status.idle": "2023-04-04T20:26:21.716116Z",
     "shell.execute_reply": "2023-04-04T20:26:21.715565Z"
    },
    "jupyter": {
     "source_hidden": true
    },
    "papermill": {
     "duration": 0.13002,
     "end_time": "2023-04-04T20:26:21.717802",
     "exception": false,
     "start_time": "2023-04-04T20:26:21.587782",
     "status": "completed"
    },
    "tags": []
   },
   "outputs": [],
   "source": [
    "from delta import configure_spark_with_delta_pip\n",
    "from delta.tables import DeltaTable\n",
    "from pyspark.sql import SparkSession"
   ]
  },
  {
   "cell_type": "code",
   "execution_count": 3,
   "id": "f936bb08-2048-4a91-b9bc-db6e705a031c",
   "metadata": {
    "execution": {
     "iopub.execute_input": "2023-04-04T20:26:21.721717Z",
     "iopub.status.busy": "2023-04-04T20:26:21.721494Z",
     "iopub.status.idle": "2023-04-04T20:26:24.698775Z",
     "shell.execute_reply": "2023-04-04T20:26:24.698142Z"
    },
    "jupyter": {
     "source_hidden": true
    },
    "papermill": {
     "duration": 2.981339,
     "end_time": "2023-04-04T20:26:24.700428",
     "exception": false,
     "start_time": "2023-04-04T20:26:21.719089",
     "status": "completed"
    },
    "tags": []
   },
   "outputs": [
    {
     "name": "stderr",
     "output_type": "stream",
     "text": [
      "/home/airflow/.local/lib/python3.7/site-packages/pyspark/bin/load-spark-env.sh: line 68: ps: command not found\n"
     ]
    },
    {
     "name": "stdout",
     "output_type": "stream",
     "text": [
      ":: loading settings :: url = jar:file:/home/airflow/.local/lib/python3.7/site-packages/pyspark/jars/ivy-2.5.1.jar!/org/apache/ivy/core/settings/ivysettings.xml\n"
     ]
    },
    {
     "name": "stderr",
     "output_type": "stream",
     "text": [
      "Ivy Default Cache set to: /home/airflow/.ivy2/cache\n",
      "The jars for the packages stored in: /home/airflow/.ivy2/jars\n",
      "io.delta#delta-core_2.12 added as a dependency\n",
      ":: resolving dependencies :: org.apache.spark#spark-submit-parent-9888725a-135a-42b3-aa6a-bbc75e797cc2;1.0\n",
      "\tconfs: [default]\n",
      "\tfound io.delta#delta-core_2.12;2.2.0 in central\n",
      "\tfound io.delta#delta-storage;2.2.0 in central\n",
      "\tfound org.antlr#antlr4-runtime;4.8 in central\n",
      ":: resolution report :: resolve 124ms :: artifacts dl 4ms\n",
      "\t:: modules in use:\n",
      "\tio.delta#delta-core_2.12;2.2.0 from central in [default]\n",
      "\tio.delta#delta-storage;2.2.0 from central in [default]\n",
      "\torg.antlr#antlr4-runtime;4.8 from central in [default]\n",
      "\t---------------------------------------------------------------------\n",
      "\t|                  |            modules            ||   artifacts   |\n",
      "\t|       conf       | number| search|dwnlded|evicted|| number|dwnlded|\n",
      "\t---------------------------------------------------------------------\n",
      "\t|      default     |   3   |   0   |   0   |   0   ||   3   |   0   |\n",
      "\t---------------------------------------------------------------------\n",
      ":: retrieving :: org.apache.spark#spark-submit-parent-9888725a-135a-42b3-aa6a-bbc75e797cc2\n",
      "\tconfs: [default]\n",
      "\t0 artifacts copied, 3 already retrieved (0kB/5ms)\n"
     ]
    },
    {
     "name": "stdout",
     "output_type": "stream",
     "text": [
      "23/04/04 20:26:23 WARN NativeCodeLoader: Unable to load native-hadoop library for your platform... using builtin-java classes where applicable\n"
     ]
    },
    {
     "name": "stderr",
     "output_type": "stream",
     "text": [
      "Setting default log level to \"WARN\".\n",
      "To adjust logging level use sc.setLogLevel(newLevel). For SparkR, use setLogLevel(newLevel).\n"
     ]
    }
   ],
   "source": [
    "builder = SparkSession.builder.master(\"spark://spark-master:7077\").appName(\"cleanedApp\") \\\n",
    "    .config(\"spark.sql.extensions\", \"io.delta.sql.DeltaSparkSessionExtension\") \\\n",
    "    .config(\"spark.sql.catalog.spark_catalog\", \"org.apache.spark.sql.delta.catalog.DeltaCatalog\")\n",
    "\n",
    "spark = configure_spark_with_delta_pip(builder).getOrCreate()"
   ]
  },
  {
   "cell_type": "code",
   "execution_count": 4,
   "id": "733f59bf-0d36-4b08-8241-756d5086d41a",
   "metadata": {
    "execution": {
     "iopub.execute_input": "2023-04-04T20:26:24.705564Z",
     "iopub.status.busy": "2023-04-04T20:26:24.705071Z",
     "iopub.status.idle": "2023-04-04T20:26:34.168750Z",
     "shell.execute_reply": "2023-04-04T20:26:34.168013Z"
    },
    "jupyter": {
     "source_hidden": true
    },
    "papermill": {
     "duration": 9.468175,
     "end_time": "2023-04-04T20:26:34.170311",
     "exception": false,
     "start_time": "2023-04-04T20:26:24.702136",
     "status": "completed"
    },
    "tags": []
   },
   "outputs": [
    {
     "name": "stdout",
     "output_type": "stream",
     "text": [
      "23/04/04 20:26:28 WARN package: Truncated the string representation of a plan since it was too large. This behavior can be adjusted by setting 'spark.sql.debug.maxToStringFields'.\n"
     ]
    },
    {
     "name": "stderr",
     "output_type": "stream",
     "text": [
      "\r",
      "[Stage 0:>                                                          (0 + 1) / 2]\r"
     ]
    },
    {
     "name": "stderr",
     "output_type": "stream",
     "text": [
      "\r",
      "[Stage 2:>                                                         (0 + 1) / 50]\r"
     ]
    },
    {
     "name": "stderr",
     "output_type": "stream",
     "text": [
      "\r",
      "[Stage 2:===>                                                      (3 + 1) / 50]\r",
      "\r",
      "[Stage 2:====>                                                     (4 + 1) / 50]\r"
     ]
    },
    {
     "name": "stderr",
     "output_type": "stream",
     "text": [
      "\r",
      "[Stage 2:==========>                                               (9 + 1) / 50]\r",
      "\r",
      "[Stage 2:=================>                                       (15 + 1) / 50]\r"
     ]
    },
    {
     "name": "stderr",
     "output_type": "stream",
     "text": [
      "\r",
      "[Stage 2:=======================>                                 (21 + 1) / 50]\r",
      "\r",
      "[Stage 2:===============================>                         (28 + 1) / 50]\r"
     ]
    },
    {
     "name": "stderr",
     "output_type": "stream",
     "text": [
      "\r",
      "[Stage 2:=======================================>                 (35 + 1) / 50]\r",
      "\r",
      "[Stage 2:=================================================>       (43 + 1) / 50]\r"
     ]
    },
    {
     "name": "stderr",
     "output_type": "stream",
     "text": [
      "\r",
      "                                                                                \r"
     ]
    }
   ],
   "source": [
    "df = spark.read.format('delta').load('/opt/workspace/data/raw/iris/')"
   ]
  },
  {
   "cell_type": "code",
   "execution_count": 5,
   "id": "721e2f77-97f7-4c66-b4b2-51e2058ee2fc",
   "metadata": {
    "execution": {
     "iopub.execute_input": "2023-04-04T20:26:34.178565Z",
     "iopub.status.busy": "2023-04-04T20:26:34.177812Z",
     "iopub.status.idle": "2023-04-04T20:26:34.199794Z",
     "shell.execute_reply": "2023-04-04T20:26:34.199190Z"
    },
    "jupyter": {
     "source_hidden": true
    },
    "papermill": {
     "duration": 0.028454,
     "end_time": "2023-04-04T20:26:34.201717",
     "exception": false,
     "start_time": "2023-04-04T20:26:34.173263",
     "status": "completed"
    },
    "tags": []
   },
   "outputs": [],
   "source": [
    "df = df.drop_duplicates()"
   ]
  },
  {
   "cell_type": "code",
   "execution_count": 6,
   "id": "c095cd88-4d44-42bb-9efb-c320c8e13a48",
   "metadata": {
    "execution": {
     "iopub.execute_input": "2023-04-04T20:26:34.209313Z",
     "iopub.status.busy": "2023-04-04T20:26:34.208680Z",
     "iopub.status.idle": "2023-04-04T20:26:40.193463Z",
     "shell.execute_reply": "2023-04-04T20:26:40.193029Z"
    },
    "jupyter": {
     "source_hidden": true
    },
    "papermill": {
     "duration": 5.989953,
     "end_time": "2023-04-04T20:26:40.194560",
     "exception": false,
     "start_time": "2023-04-04T20:26:34.204607",
     "status": "completed"
    },
    "tags": []
   },
   "outputs": [
    {
     "name": "stderr",
     "output_type": "stream",
     "text": [
      "\r",
      "[Stage 8:=========================>                               (22 + 1) / 50]\r"
     ]
    },
    {
     "name": "stderr",
     "output_type": "stream",
     "text": [
      "\r",
      "[Stage 8:===================================>                     (31 + 1) / 50]\r",
      "\r",
      "[Stage 8:===========================================>             (38 + 1) / 50]\r"
     ]
    },
    {
     "name": "stderr",
     "output_type": "stream",
     "text": [
      "\r",
      "[Stage 8:=====================================================>   (47 + 1) / 50]\r",
      "\r",
      "                                                                                \r"
     ]
    },
    {
     "name": "stderr",
     "output_type": "stream",
     "text": [
      "\r",
      "[Stage 21:========================>                               (22 + 1) / 50]\r",
      "\r",
      "[Stage 21:==================================>                     (31 + 1) / 50]\r"
     ]
    },
    {
     "name": "stderr",
     "output_type": "stream",
     "text": [
      "\r",
      "[Stage 21:===========================================>            (39 + 1) / 50]\r",
      "\r",
      "[Stage 21:======================================================> (49 + 1) / 50]\r"
     ]
    },
    {
     "name": "stderr",
     "output_type": "stream",
     "text": [
      "\r",
      "                                                                                \r"
     ]
    }
   ],
   "source": [
    "df.write.mode('overwrite').format('delta').save('/opt/workspace/data/cleaned/iris/')"
   ]
  },
  {
   "cell_type": "code",
   "execution_count": 7,
   "id": "0dbd4b0a-0425-4d2f-acb5-a2bb19c5b351",
   "metadata": {
    "execution": {
     "iopub.execute_input": "2023-04-04T20:26:40.199532Z",
     "iopub.status.busy": "2023-04-04T20:26:40.199158Z",
     "iopub.status.idle": "2023-04-04T20:26:40.596348Z",
     "shell.execute_reply": "2023-04-04T20:26:40.594818Z"
    },
    "jupyter": {
     "source_hidden": true
    },
    "papermill": {
     "duration": 0.403272,
     "end_time": "2023-04-04T20:26:40.599949",
     "exception": false,
     "start_time": "2023-04-04T20:26:40.196677",
     "status": "completed"
    },
    "tags": []
   },
   "outputs": [],
   "source": [
    "spark.stop()"
   ]
  }
 ],
 "metadata": {
  "kernelspec": {
   "display_name": "Python 3 (ipykernel)",
   "language": "python",
   "name": "python3"
  },
  "language_info": {
   "codemirror_mode": {
    "name": "ipython",
    "version": 3
   },
   "file_extension": ".py",
   "mimetype": "text/x-python",
   "name": "python",
   "nbconvert_exporter": "python",
   "pygments_lexer": "ipython3",
   "version": "3.7.16"
  },
  "papermill": {
   "default_parameters": {},
   "duration": 22.871835,
   "end_time": "2023-04-04T20:26:43.228088",
   "environment_variables": {},
   "exception": null,
   "input_path": "/opt/workspace/notebooks/cleaned.ipynb",
   "output_path": "/opt/workspace/notebooks/executions/cleaned/out-2023-04-03T00:00:00+00:00.ipynb",
   "parameters": {
    "execution_date": "2023-04-03T00:00:00+00:00"
   },
   "start_time": "2023-04-04T20:26:20.356253",
   "version": "2.4.0"
  }
 },
 "nbformat": 4,
 "nbformat_minor": 5
}