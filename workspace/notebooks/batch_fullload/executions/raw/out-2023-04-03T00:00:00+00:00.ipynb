{
 "cells": [
  {
   "cell_type": "code",
   "execution_count": 1,
   "id": "d6ba0006",
   "metadata": {
    "execution": {
     "iopub.execute_input": "2023-04-04T20:25:52.528846Z",
     "iopub.status.busy": "2023-04-04T20:25:52.528417Z",
     "iopub.status.idle": "2023-04-04T20:25:52.533499Z",
     "shell.execute_reply": "2023-04-04T20:25:52.533069Z"
    },
    "jupyter": {
     "source_hidden": true
    },
    "papermill": {
     "duration": 0.009661,
     "end_time": "2023-04-04T20:25:52.534546",
     "exception": false,
     "start_time": "2023-04-04T20:25:52.524885",
     "status": "completed"
    },
    "tags": [
     "injected-parameters"
    ]
   },
   "outputs": [],
   "source": [
    "# Parameters\n",
    "execution_date = \"2023-04-03T00:00:00+00:00\"\n"
   ]
  },
  {
   "cell_type": "code",
   "execution_count": 2,
   "id": "78cd311e-656c-4485-a550-dc010353408b",
   "metadata": {
    "execution": {
     "iopub.execute_input": "2023-04-04T20:25:52.537985Z",
     "iopub.status.busy": "2023-04-04T20:25:52.537692Z",
     "iopub.status.idle": "2023-04-04T20:25:52.672708Z",
     "shell.execute_reply": "2023-04-04T20:25:52.672220Z"
    },
    "jupyter": {
     "source_hidden": true
    },
    "papermill": {
     "duration": 0.138247,
     "end_time": "2023-04-04T20:25:52.674198",
     "exception": false,
     "start_time": "2023-04-04T20:25:52.535951",
     "status": "completed"
    },
    "tags": []
   },
   "outputs": [],
   "source": [
    "from delta import configure_spark_with_delta_pip\n",
    "from delta.tables import DeltaTable\n",
    "from pyspark.sql import SparkSession"
   ]
  },
  {
   "cell_type": "code",
   "execution_count": 3,
   "id": "62e0ae14-d2a9-4839-8cfd-717f4c90783b",
   "metadata": {
    "execution": {
     "iopub.execute_input": "2023-04-04T20:25:52.678025Z",
     "iopub.status.busy": "2023-04-04T20:25:52.677787Z",
     "iopub.status.idle": "2023-04-04T20:26:01.377093Z",
     "shell.execute_reply": "2023-04-04T20:26:01.376552Z"
    },
    "jupyter": {
     "source_hidden": true
    },
    "papermill": {
     "duration": 8.703026,
     "end_time": "2023-04-04T20:26:01.378586",
     "exception": false,
     "start_time": "2023-04-04T20:25:52.675560",
     "status": "completed"
    },
    "tags": []
   },
   "outputs": [
    {
     "name": "stderr",
     "output_type": "stream",
     "text": [
      "/home/airflow/.local/lib/python3.7/site-packages/pyspark/bin/load-spark-env.sh: line 68: ps: command not found\n"
     ]
    },
    {
     "name": "stdout",
     "output_type": "stream",
     "text": [
      ":: loading settings :: url = jar:file:/home/airflow/.local/lib/python3.7/site-packages/pyspark/jars/ivy-2.5.1.jar!/org/apache/ivy/core/settings/ivysettings.xml\n"
     ]
    },
    {
     "name": "stderr",
     "output_type": "stream",
     "text": [
      "Ivy Default Cache set to: /home/airflow/.ivy2/cache\n",
      "The jars for the packages stored in: /home/airflow/.ivy2/jars\n",
      "io.delta#delta-core_2.12 added as a dependency\n",
      ":: resolving dependencies :: org.apache.spark#spark-submit-parent-180ab083-b23d-4e92-bfef-a7f8f23dc283;1.0\n",
      "\tconfs: [default]\n"
     ]
    },
    {
     "name": "stderr",
     "output_type": "stream",
     "text": [
      "\tfound io.delta#delta-core_2.12;2.2.0 in central\n"
     ]
    },
    {
     "name": "stderr",
     "output_type": "stream",
     "text": [
      "\tfound io.delta#delta-storage;2.2.0 in central\n"
     ]
    },
    {
     "name": "stderr",
     "output_type": "stream",
     "text": [
      "\tfound org.antlr#antlr4-runtime;4.8 in central\n",
      "downloading https://repo1.maven.org/maven2/io/delta/delta-core_2.12/2.2.0/delta-core_2.12-2.2.0.jar ...\n"
     ]
    },
    {
     "name": "stderr",
     "output_type": "stream",
     "text": [
      "\t[SUCCESSFUL ] io.delta#delta-core_2.12;2.2.0!delta-core_2.12.jar (1347ms)\n",
      "downloading https://repo1.maven.org/maven2/io/delta/delta-storage/2.2.0/delta-storage-2.2.0.jar ...\n"
     ]
    },
    {
     "name": "stderr",
     "output_type": "stream",
     "text": [
      "\t[SUCCESSFUL ] io.delta#delta-storage;2.2.0!delta-storage.jar (292ms)\n",
      "downloading https://repo1.maven.org/maven2/org/antlr/antlr4-runtime/4.8/antlr4-runtime-4.8.jar ...\n"
     ]
    },
    {
     "name": "stderr",
     "output_type": "stream",
     "text": [
      "\t[SUCCESSFUL ] org.antlr#antlr4-runtime;4.8!antlr4-runtime.jar (355ms)\n",
      ":: resolution report :: resolve 3338ms :: artifacts dl 1998ms\n",
      "\t:: modules in use:\n",
      "\tio.delta#delta-core_2.12;2.2.0 from central in [default]\n",
      "\tio.delta#delta-storage;2.2.0 from central in [default]\n",
      "\torg.antlr#antlr4-runtime;4.8 from central in [default]\n",
      "\t---------------------------------------------------------------------\n",
      "\t|                  |            modules            ||   artifacts   |\n",
      "\t|       conf       | number| search|dwnlded|evicted|| number|dwnlded|\n",
      "\t---------------------------------------------------------------------\n",
      "\t|      default     |   3   |   3   |   3   |   0   ||   3   |   3   |\n",
      "\t---------------------------------------------------------------------\n",
      ":: retrieving :: org.apache.spark#spark-submit-parent-180ab083-b23d-4e92-bfef-a7f8f23dc283\n",
      "\tconfs: [default]\n",
      "\t3 artifacts copied, 0 already retrieved (3728kB/9ms)\n"
     ]
    },
    {
     "name": "stdout",
     "output_type": "stream",
     "text": [
      "23/04/04 20:25:59 WARN NativeCodeLoader: Unable to load native-hadoop library for your platform... using builtin-java classes where applicable\n"
     ]
    },
    {
     "name": "stderr",
     "output_type": "stream",
     "text": [
      "Setting default log level to \"WARN\".\n",
      "To adjust logging level use sc.setLogLevel(newLevel). For SparkR, use setLogLevel(newLevel).\n"
     ]
    }
   ],
   "source": [
    "builder = SparkSession.builder.master(\"spark://spark-master:7077\").appName(\"rawApp\") \\\n",
    "    .config(\"spark.sql.extensions\", \"io.delta.sql.DeltaSparkSessionExtension\") \\\n",
    "    .config(\"spark.sql.catalog.spark_catalog\", \"org.apache.spark.sql.delta.catalog.DeltaCatalog\")\n",
    "\n",
    "spark = configure_spark_with_delta_pip(builder).getOrCreate()"
   ]
  },
  {
   "cell_type": "code",
   "execution_count": 4,
   "id": "b222293b-f6ea-4fe9-969d-afeb250edb94",
   "metadata": {
    "execution": {
     "iopub.execute_input": "2023-04-04T20:26:01.383398Z",
     "iopub.status.busy": "2023-04-04T20:26:01.383154Z",
     "iopub.status.idle": "2023-04-04T20:26:05.285940Z",
     "shell.execute_reply": "2023-04-04T20:26:05.285381Z"
    },
    "jupyter": {
     "source_hidden": true
    },
    "papermill": {
     "duration": 3.906923,
     "end_time": "2023-04-04T20:26:05.287476",
     "exception": false,
     "start_time": "2023-04-04T20:26:01.380553",
     "status": "completed"
    },
    "tags": []
   },
   "outputs": [
    {
     "name": "stderr",
     "output_type": "stream",
     "text": [
      "\r",
      "[Stage 0:>                                                          (0 + 1) / 1]\r"
     ]
    },
    {
     "name": "stderr",
     "output_type": "stream",
     "text": [
      "\r",
      "                                                                                \r"
     ]
    }
   ],
   "source": [
    "df = spark.read.csv(\"/opt/workspace/data/input/Iris.csv\", header=True)"
   ]
  },
  {
   "cell_type": "code",
   "execution_count": 5,
   "id": "68cdc10d-099f-41bd-98ba-1f5b76200904",
   "metadata": {
    "execution": {
     "iopub.execute_input": "2023-04-04T20:26:05.295226Z",
     "iopub.status.busy": "2023-04-04T20:26:05.294961Z",
     "iopub.status.idle": "2023-04-04T20:26:16.016248Z",
     "shell.execute_reply": "2023-04-04T20:26:16.015716Z"
    },
    "jupyter": {
     "source_hidden": true
    },
    "papermill": {
     "duration": 10.726637,
     "end_time": "2023-04-04T20:26:16.017341",
     "exception": false,
     "start_time": "2023-04-04T20:26:05.290704",
     "status": "completed"
    },
    "tags": []
   },
   "outputs": [
    {
     "name": "stdout",
     "output_type": "stream",
     "text": [
      "23/04/04 20:26:06 WARN package: Truncated the string representation of a plan since it was too large. This behavior can be adjusted by setting 'spark.sql.debug.maxToStringFields'.\n"
     ]
    },
    {
     "name": "stderr",
     "output_type": "stream",
     "text": [
      "\r",
      "[Stage 1:>                                                          (0 + 1) / 2]\r"
     ]
    },
    {
     "name": "stderr",
     "output_type": "stream",
     "text": [
      "\r",
      "[Stage 1:=============================>                             (1 + 1) / 2]\r"
     ]
    },
    {
     "name": "stderr",
     "output_type": "stream",
     "text": [
      "\r",
      "[Stage 3:>                                                         (0 + 1) / 50]\r",
      "\r",
      "[Stage 3:=>                                                        (1 + 1) / 50]\r"
     ]
    },
    {
     "name": "stderr",
     "output_type": "stream",
     "text": [
      "\r",
      "[Stage 3:==>                                                       (2 + 1) / 50]\r",
      "\r",
      "[Stage 3:====>                                                     (4 + 1) / 50]\r"
     ]
    },
    {
     "name": "stderr",
     "output_type": "stream",
     "text": [
      "\r",
      "[Stage 3:==========>                                               (9 + 1) / 50]\r",
      "\r",
      "[Stage 3:==============>                                          (13 + 1) / 50]\r"
     ]
    },
    {
     "name": "stderr",
     "output_type": "stream",
     "text": [
      "\r",
      "[Stage 3:=====================>                                   (19 + 1) / 50]\r",
      "\r",
      "[Stage 3:==========================>                              (23 + 1) / 50]\r"
     ]
    },
    {
     "name": "stderr",
     "output_type": "stream",
     "text": [
      "\r",
      "[Stage 3:==================================>                      (30 + 1) / 50]\r",
      "\r",
      "[Stage 3:=======================================>                 (35 + 1) / 50]\r"
     ]
    },
    {
     "name": "stderr",
     "output_type": "stream",
     "text": [
      "\r",
      "[Stage 3:==============================================>          (41 + 1) / 50]\r",
      "\r",
      "[Stage 3:=====================================================>   (47 + 1) / 50]\r"
     ]
    },
    {
     "name": "stderr",
     "output_type": "stream",
     "text": [
      "\r",
      "                                                                                \r"
     ]
    },
    {
     "name": "stderr",
     "output_type": "stream",
     "text": [
      "\r",
      "[Stage 7:>                                                          (0 + 1) / 1]\r"
     ]
    },
    {
     "name": "stderr",
     "output_type": "stream",
     "text": [
      "\r",
      "                                                                                \r"
     ]
    },
    {
     "name": "stderr",
     "output_type": "stream",
     "text": [
      "\r",
      "[Stage 9:===============================================>         (42 + 1) / 50]\r",
      "\r",
      "                                                                                \r"
     ]
    },
    {
     "name": "stderr",
     "output_type": "stream",
     "text": [
      "\r",
      "[Stage 12:====================>                                   (18 + 1) / 50]\r",
      "\r",
      "[Stage 12:==============================>                         (27 + 1) / 50]\r"
     ]
    },
    {
     "name": "stderr",
     "output_type": "stream",
     "text": [
      "\r",
      "[Stage 12:=======================================>                (35 + 1) / 50]\r",
      "\r",
      "[Stage 12:================================================>       (43 + 1) / 50]\r"
     ]
    },
    {
     "name": "stderr",
     "output_type": "stream",
     "text": [
      "\r",
      "                                                                                \r"
     ]
    }
   ],
   "source": [
    "df.write.mode(\"overwrite\").format(\"delta\").save(\"/opt/workspace/data/raw/iris/\")"
   ]
  },
  {
   "cell_type": "code",
   "execution_count": 6,
   "id": "71779680-46b3-4980-aea1-05e56235d974",
   "metadata": {
    "execution": {
     "iopub.execute_input": "2023-04-04T20:26:16.023864Z",
     "iopub.status.busy": "2023-04-04T20:26:16.023628Z",
     "iopub.status.idle": "2023-04-04T20:26:16.051241Z",
     "shell.execute_reply": "2023-04-04T20:26:16.050756Z"
    },
    "jupyter": {
     "source_hidden": true
    },
    "papermill": {
     "duration": 0.032662,
     "end_time": "2023-04-04T20:26:16.052820",
     "exception": false,
     "start_time": "2023-04-04T20:26:16.020158",
     "status": "completed"
    },
    "tags": []
   },
   "outputs": [],
   "source": [
    "delta_table = DeltaTable.forPath(spark, \"/opt/workspace/data/raw/iris/\")"
   ]
  },
  {
   "cell_type": "code",
   "execution_count": 7,
   "id": "ad824412-6ba1-4e4d-b044-9701dc60084d",
   "metadata": {
    "execution": {
     "iopub.execute_input": "2023-04-04T20:26:16.058615Z",
     "iopub.status.busy": "2023-04-04T20:26:16.058395Z",
     "iopub.status.idle": "2023-04-04T20:26:16.548569Z",
     "shell.execute_reply": "2023-04-04T20:26:16.547758Z"
    },
    "jupyter": {
     "source_hidden": true
    },
    "papermill": {
     "duration": 0.494654,
     "end_time": "2023-04-04T20:26:16.549991",
     "exception": false,
     "start_time": "2023-04-04T20:26:16.055337",
     "status": "completed"
    },
    "tags": []
   },
   "outputs": [
    {
     "name": "stdout",
     "output_type": "stream",
     "text": [
      "+-------+--------------------+------+--------+---------+--------------------+----+--------+---------+-----------+--------------+-------------+--------------------+------------+--------------------+\n",
      "|version|           timestamp|userId|userName|operation| operationParameters| job|notebook|clusterId|readVersion|isolationLevel|isBlindAppend|    operationMetrics|userMetadata|          engineInfo|\n",
      "+-------+--------------------+------+--------+---------+--------------------+----+--------+---------+-----------+--------------+-------------+--------------------+------------+--------------------+\n",
      "|      2|2023-04-04 20:26:...|  null|    null|    WRITE|{mode -> Overwrit...|null|    null|     null|          1|  Serializable|        false|{numFiles -> 1, n...|        null|Apache-Spark/3.3....|\n",
      "|      1|2023-04-04 08:07:...|  null|    null|    WRITE|{mode -> Overwrit...|null|    null|     null|          0|  Serializable|        false|{numFiles -> 1, n...|        null|Apache-Spark/3.3....|\n",
      "|      0|2023-04-04 07:52:...|  null|    null|    WRITE|{mode -> Overwrit...|null|    null|     null|       null|  Serializable|        false|{numFiles -> 1, n...|        null|Apache-Spark/3.3....|\n",
      "+-------+--------------------+------+--------+---------+--------------------+----+--------+---------+-----------+--------------+-------------+--------------------+------------+--------------------+\n",
      "\n"
     ]
    }
   ],
   "source": [
    "delta_table.history().show()"
   ]
  },
  {
   "cell_type": "code",
   "execution_count": 8,
   "id": "717b6826-bc6c-4b87-806c-4c6e16e05fc4",
   "metadata": {
    "execution": {
     "iopub.execute_input": "2023-04-04T20:26:16.557710Z",
     "iopub.status.busy": "2023-04-04T20:26:16.557262Z",
     "iopub.status.idle": "2023-04-04T20:26:16.730341Z",
     "shell.execute_reply": "2023-04-04T20:26:16.729785Z"
    },
    "jupyter": {
     "source_hidden": true
    },
    "papermill": {
     "duration": 0.179076,
     "end_time": "2023-04-04T20:26:16.732248",
     "exception": false,
     "start_time": "2023-04-04T20:26:16.553172",
     "status": "completed"
    },
    "tags": []
   },
   "outputs": [],
   "source": [
    "spark.stop()"
   ]
  }
 ],
 "metadata": {
  "kernelspec": {
   "display_name": "Python 3 (ipykernel)",
   "language": "python",
   "name": "python3"
  },
  "language_info": {
   "codemirror_mode": {
    "name": "ipython",
    "version": 3
   },
   "file_extension": ".py",
   "mimetype": "text/x-python",
   "name": "python",
   "nbconvert_exporter": "python",
   "pygments_lexer": "ipython3",
   "version": "3.7.16"
  },
  "papermill": {
   "default_parameters": {},
   "duration": 28.126197,
   "end_time": "2023-04-04T20:26:19.353667",
   "environment_variables": {},
   "exception": null,
   "input_path": "/opt/workspace/notebooks/raw.ipynb",
   "output_path": "/opt/workspace/notebooks/executions/raw/out-2023-04-03T00:00:00+00:00.ipynb",
   "parameters": {
    "execution_date": "2023-04-03T00:00:00+00:00"
   },
   "start_time": "2023-04-04T20:25:51.227470",
   "version": "2.4.0"
  }
 },
 "nbformat": 4,
 "nbformat_minor": 5
}