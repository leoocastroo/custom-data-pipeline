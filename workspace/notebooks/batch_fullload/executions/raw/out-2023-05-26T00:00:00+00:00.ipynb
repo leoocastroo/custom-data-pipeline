{
 "cells": [
  {
   "cell_type": "code",
   "execution_count": 1,
   "id": "221e13db",
   "metadata": {
    "execution": {
     "iopub.execute_input": "2023-05-27T04:05:48.123567Z",
     "iopub.status.busy": "2023-05-27T04:05:48.123119Z",
     "iopub.status.idle": "2023-05-27T04:05:48.130705Z",
     "shell.execute_reply": "2023-05-27T04:05:48.129969Z"
    },
    "jupyter": {
     "source_hidden": true
    },
    "papermill": {
     "duration": 0.013551,
     "end_time": "2023-05-27T04:05:48.132319",
     "exception": false,
     "start_time": "2023-05-27T04:05:48.118768",
     "status": "completed"
    },
    "tags": [
     "injected-parameters"
    ]
   },
   "outputs": [],
   "source": [
    "# Parameters\n",
    "execution_date = \"2023-05-26T00:00:00+00:00\"\n"
   ]
  },
  {
   "cell_type": "code",
   "execution_count": 2,
   "id": "78cd311e-656c-4485-a550-dc010353408b",
   "metadata": {
    "execution": {
     "iopub.execute_input": "2023-05-27T04:05:48.137488Z",
     "iopub.status.busy": "2023-05-27T04:05:48.137045Z",
     "iopub.status.idle": "2023-05-27T04:05:48.306922Z",
     "shell.execute_reply": "2023-05-27T04:05:48.306425Z"
    },
    "jupyter": {
     "source_hidden": true
    },
    "papermill": {
     "duration": 0.174154,
     "end_time": "2023-05-27T04:05:48.308580",
     "exception": false,
     "start_time": "2023-05-27T04:05:48.134426",
     "status": "completed"
    },
    "tags": []
   },
   "outputs": [],
   "source": [
    "from delta import configure_spark_with_delta_pip\n",
    "from delta.tables import DeltaTable\n",
    "from pyspark.sql import SparkSession"
   ]
  },
  {
   "cell_type": "code",
   "execution_count": 3,
   "id": "62e0ae14-d2a9-4839-8cfd-717f4c90783b",
   "metadata": {
    "execution": {
     "iopub.execute_input": "2023-05-27T04:05:48.313111Z",
     "iopub.status.busy": "2023-05-27T04:05:48.312633Z",
     "iopub.status.idle": "2023-05-27T04:05:58.270881Z",
     "shell.execute_reply": "2023-05-27T04:05:58.270263Z"
    },
    "jupyter": {
     "source_hidden": true
    },
    "papermill": {
     "duration": 9.962529,
     "end_time": "2023-05-27T04:05:58.272621",
     "exception": false,
     "start_time": "2023-05-27T04:05:48.310092",
     "status": "completed"
    },
    "tags": []
   },
   "outputs": [
    {
     "name": "stderr",
     "output_type": "stream",
     "text": [
      "/home/airflow/.local/lib/python3.7/site-packages/pyspark/bin/load-spark-env.sh: line 68: ps: command not found\n"
     ]
    },
    {
     "name": "stdout",
     "output_type": "stream",
     "text": [
      ":: loading settings :: url = jar:file:/home/airflow/.local/lib/python3.7/site-packages/pyspark/jars/ivy-2.5.1.jar!/org/apache/ivy/core/settings/ivysettings.xml\n"
     ]
    },
    {
     "name": "stderr",
     "output_type": "stream",
     "text": [
      "Ivy Default Cache set to: /home/airflow/.ivy2/cache\n",
      "The jars for the packages stored in: /home/airflow/.ivy2/jars\n",
      "io.delta#delta-core_2.12 added as a dependency\n",
      ":: resolving dependencies :: org.apache.spark#spark-submit-parent-8a1fa794-ebec-4640-9fc9-32ddd1bbf30c;1.0\n",
      "\tconfs: [default]\n"
     ]
    },
    {
     "name": "stderr",
     "output_type": "stream",
     "text": [
      "\tfound io.delta#delta-core_2.12;2.2.0 in central\n"
     ]
    },
    {
     "name": "stderr",
     "output_type": "stream",
     "text": [
      "\tfound io.delta#delta-storage;2.2.0 in central\n"
     ]
    },
    {
     "name": "stderr",
     "output_type": "stream",
     "text": [
      "\tfound org.antlr#antlr4-runtime;4.8 in central\n",
      "downloading https://repo1.maven.org/maven2/io/delta/delta-core_2.12/2.2.0/delta-core_2.12-2.2.0.jar ...\n"
     ]
    },
    {
     "name": "stderr",
     "output_type": "stream",
     "text": [
      "\t[SUCCESSFUL ] io.delta#delta-core_2.12;2.2.0!delta-core_2.12.jar (1271ms)\n"
     ]
    },
    {
     "name": "stderr",
     "output_type": "stream",
     "text": [
      "downloading https://repo1.maven.org/maven2/io/delta/delta-storage/2.2.0/delta-storage-2.2.0.jar ...\n",
      "\t[SUCCESSFUL ] io.delta#delta-storage;2.2.0!delta-storage.jar (623ms)\n"
     ]
    },
    {
     "name": "stderr",
     "output_type": "stream",
     "text": [
      "downloading https://repo1.maven.org/maven2/org/antlr/antlr4-runtime/4.8/antlr4-runtime-4.8.jar ...\n",
      "\t[SUCCESSFUL ] org.antlr#antlr4-runtime;4.8!antlr4-runtime.jar (328ms)\n",
      ":: resolution report :: resolve 4173ms :: artifacts dl 2226ms\n",
      "\t:: modules in use:\n",
      "\tio.delta#delta-core_2.12;2.2.0 from central in [default]\n",
      "\tio.delta#delta-storage;2.2.0 from central in [default]\n",
      "\torg.antlr#antlr4-runtime;4.8 from central in [default]\n",
      "\t---------------------------------------------------------------------\n",
      "\t|                  |            modules            ||   artifacts   |\n",
      "\t|       conf       | number| search|dwnlded|evicted|| number|dwnlded|\n",
      "\t---------------------------------------------------------------------\n",
      "\t|      default     |   3   |   3   |   3   |   0   ||   3   |   3   |\n",
      "\t---------------------------------------------------------------------\n",
      ":: retrieving :: org.apache.spark#spark-submit-parent-8a1fa794-ebec-4640-9fc9-32ddd1bbf30c\n",
      "\tconfs: [default]\n",
      "\t3 artifacts copied, 0 already retrieved (3728kB/9ms)\n"
     ]
    },
    {
     "name": "stdout",
     "output_type": "stream",
     "text": [
      "23/05/27 04:05:56 WARN NativeCodeLoader: Unable to load native-hadoop library for your platform... using builtin-java classes where applicable\n"
     ]
    },
    {
     "name": "stderr",
     "output_type": "stream",
     "text": [
      "Setting default log level to \"WARN\".\n",
      "To adjust logging level use sc.setLogLevel(newLevel). For SparkR, use setLogLevel(newLevel).\n"
     ]
    }
   ],
   "source": [
    "builder = SparkSession.builder.master(\"spark://spark-master:7077\").appName(\"rawApp\") \\\n",
    "    .config(\"spark.sql.extensions\", \"io.delta.sql.DeltaSparkSessionExtension\") \\\n",
    "    .config(\"spark.sql.catalog.spark_catalog\", \"org.apache.spark.sql.delta.catalog.DeltaCatalog\")\n",
    "\n",
    "spark = configure_spark_with_delta_pip(builder).getOrCreate()"
   ]
  },
  {
   "cell_type": "code",
   "execution_count": 4,
   "id": "b222293b-f6ea-4fe9-969d-afeb250edb94",
   "metadata": {
    "execution": {
     "iopub.execute_input": "2023-05-27T04:05:58.279702Z",
     "iopub.status.busy": "2023-05-27T04:05:58.279007Z",
     "iopub.status.idle": "2023-05-27T04:06:02.448670Z",
     "shell.execute_reply": "2023-05-27T04:06:02.448179Z"
    },
    "jupyter": {
     "source_hidden": true
    },
    "papermill": {
     "duration": 4.175362,
     "end_time": "2023-05-27T04:06:02.450076",
     "exception": false,
     "start_time": "2023-05-27T04:05:58.274714",
     "status": "completed"
    },
    "tags": []
   },
   "outputs": [
    {
     "name": "stderr",
     "output_type": "stream",
     "text": [
      "\r",
      "[Stage 0:>                                                          (0 + 1) / 1]\r"
     ]
    },
    {
     "name": "stderr",
     "output_type": "stream",
     "text": [
      "\r",
      "                                                                                \r"
     ]
    }
   ],
   "source": [
    "df = spark.read.csv(\"/opt/workspace/data/input/Iris.csv\", header=True)"
   ]
  },
  {
   "cell_type": "code",
   "execution_count": 5,
   "id": "68cdc10d-099f-41bd-98ba-1f5b76200904",
   "metadata": {
    "execution": {
     "iopub.execute_input": "2023-05-27T04:06:02.456206Z",
     "iopub.status.busy": "2023-05-27T04:06:02.455924Z",
     "iopub.status.idle": "2023-05-27T04:06:12.903989Z",
     "shell.execute_reply": "2023-05-27T04:06:12.903439Z"
    },
    "jupyter": {
     "source_hidden": true
    },
    "papermill": {
     "duration": 10.45249,
     "end_time": "2023-05-27T04:06:12.905216",
     "exception": false,
     "start_time": "2023-05-27T04:06:02.452726",
     "status": "completed"
    },
    "tags": []
   },
   "outputs": [
    {
     "name": "stdout",
     "output_type": "stream",
     "text": [
      "23/05/27 04:06:03 WARN package: Truncated the string representation of a plan since it was too large. This behavior can be adjusted by setting 'spark.sql.debug.maxToStringFields'.\n"
     ]
    },
    {
     "name": "stderr",
     "output_type": "stream",
     "text": [
      "\r",
      "[Stage 1:>                                                          (0 + 1) / 2]\r"
     ]
    },
    {
     "name": "stderr",
     "output_type": "stream",
     "text": [
      "\r",
      "[Stage 1:=============================>                             (1 + 1) / 2]\r"
     ]
    },
    {
     "name": "stderr",
     "output_type": "stream",
     "text": [
      "\r",
      "[Stage 3:>                                                         (0 + 1) / 50]\r"
     ]
    },
    {
     "name": "stderr",
     "output_type": "stream",
     "text": [
      "\r",
      "[Stage 3:===>                                                      (3 + 1) / 50]\r",
      "\r",
      "[Stage 3:====>                                                     (4 + 1) / 50]\r"
     ]
    },
    {
     "name": "stderr",
     "output_type": "stream",
     "text": [
      "\r",
      "[Stage 3:=========>                                                (8 + 1) / 50]\r"
     ]
    },
    {
     "name": "stderr",
     "output_type": "stream",
     "text": [
      "\r",
      "[Stage 3:==============>                                          (13 + 1) / 50]\r",
      "\r",
      "[Stage 3:=====================>                                   (19 + 1) / 50]\r"
     ]
    },
    {
     "name": "stderr",
     "output_type": "stream",
     "text": [
      "\r",
      "[Stage 3:==========================>                              (23 + 1) / 50]\r",
      "\r",
      "[Stage 3:=================================>                       (29 + 1) / 50]\r"
     ]
    },
    {
     "name": "stderr",
     "output_type": "stream",
     "text": [
      "\r",
      "[Stage 3:=========================================>               (36 + 1) / 50]\r",
      "\r",
      "[Stage 3:=================================================>       (43 + 1) / 50]\r"
     ]
    },
    {
     "name": "stderr",
     "output_type": "stream",
     "text": [
      "\r",
      "                                                                                \r"
     ]
    },
    {
     "name": "stderr",
     "output_type": "stream",
     "text": [
      "\r",
      "[Stage 7:>                                                          (0 + 1) / 1]\r"
     ]
    },
    {
     "name": "stderr",
     "output_type": "stream",
     "text": [
      "\r",
      "                                                                                \r"
     ]
    },
    {
     "name": "stderr",
     "output_type": "stream",
     "text": [
      "\r",
      "[Stage 9:=====================================================>   (47 + 1) / 50]\r",
      "\r",
      "                                                                                \r"
     ]
    },
    {
     "name": "stderr",
     "output_type": "stream",
     "text": [
      "\r",
      "[Stage 12:===============================>                        (28 + 1) / 50]\r",
      "\r",
      "[Stage 12:=========================================>              (37 + 1) / 50]\r"
     ]
    },
    {
     "name": "stderr",
     "output_type": "stream",
     "text": [
      "\r",
      "[Stage 12:===================================================>    (46 + 1) / 50]\r",
      "\r",
      "                                                                                \r"
     ]
    }
   ],
   "source": [
    "df.write.mode(\"overwrite\").format(\"delta\").save(\"/opt/workspace/data/raw/iris/\")"
   ]
  },
  {
   "cell_type": "code",
   "execution_count": 6,
   "id": "71779680-46b3-4980-aea1-05e56235d974",
   "metadata": {
    "execution": {
     "iopub.execute_input": "2023-05-27T04:06:12.911919Z",
     "iopub.status.busy": "2023-05-27T04:06:12.911549Z",
     "iopub.status.idle": "2023-05-27T04:06:12.938105Z",
     "shell.execute_reply": "2023-05-27T04:06:12.937645Z"
    },
    "jupyter": {
     "source_hidden": true
    },
    "papermill": {
     "duration": 0.03126,
     "end_time": "2023-05-27T04:06:12.939481",
     "exception": false,
     "start_time": "2023-05-27T04:06:12.908221",
     "status": "completed"
    },
    "tags": []
   },
   "outputs": [],
   "source": [
    "delta_table = DeltaTable.forPath(spark, \"/opt/workspace/data/raw/iris/\")"
   ]
  },
  {
   "cell_type": "code",
   "execution_count": 7,
   "id": "ad824412-6ba1-4e4d-b044-9701dc60084d",
   "metadata": {
    "execution": {
     "iopub.execute_input": "2023-05-27T04:06:12.945740Z",
     "iopub.status.busy": "2023-05-27T04:06:12.945220Z",
     "iopub.status.idle": "2023-05-27T04:06:13.453263Z",
     "shell.execute_reply": "2023-05-27T04:06:13.452763Z"
    },
    "jupyter": {
     "source_hidden": true
    },
    "papermill": {
     "duration": 0.512541,
     "end_time": "2023-05-27T04:06:13.454618",
     "exception": false,
     "start_time": "2023-05-27T04:06:12.942077",
     "status": "completed"
    },
    "tags": []
   },
   "outputs": [
    {
     "name": "stdout",
     "output_type": "stream",
     "text": [
      "+-------+--------------------+------+--------+---------+--------------------+----+--------+---------+-----------+--------------+-------------+--------------------+------------+--------------------+\n",
      "|version|           timestamp|userId|userName|operation| operationParameters| job|notebook|clusterId|readVersion|isolationLevel|isBlindAppend|    operationMetrics|userMetadata|          engineInfo|\n",
      "+-------+--------------------+------+--------+---------+--------------------+----+--------+---------+-----------+--------------+-------------+--------------------+------------+--------------------+\n",
      "|      3|2023-05-27 04:06:...|  null|    null|    WRITE|{mode -> Overwrit...|null|    null|     null|          2|  Serializable|        false|{numFiles -> 1, n...|        null|Apache-Spark/3.3....|\n",
      "|      2|2023-04-04 20:26:...|  null|    null|    WRITE|{mode -> Overwrit...|null|    null|     null|          1|  Serializable|        false|{numFiles -> 1, n...|        null|Apache-Spark/3.3....|\n",
      "|      1|2023-04-04 08:07:...|  null|    null|    WRITE|{mode -> Overwrit...|null|    null|     null|          0|  Serializable|        false|{numFiles -> 1, n...|        null|Apache-Spark/3.3....|\n",
      "|      0|2023-04-04 07:52:...|  null|    null|    WRITE|{mode -> Overwrit...|null|    null|     null|       null|  Serializable|        false|{numFiles -> 1, n...|        null|Apache-Spark/3.3....|\n",
      "+-------+--------------------+------+--------+---------+--------------------+----+--------+---------+-----------+--------------+-------------+--------------------+------------+--------------------+\n",
      "\n"
     ]
    }
   ],
   "source": [
    "delta_table.history().show()"
   ]
  },
  {
   "cell_type": "code",
   "execution_count": 8,
   "id": "717b6826-bc6c-4b87-806c-4c6e16e05fc4",
   "metadata": {
    "execution": {
     "iopub.execute_input": "2023-05-27T04:06:13.462073Z",
     "iopub.status.busy": "2023-05-27T04:06:13.461542Z",
     "iopub.status.idle": "2023-05-27T04:06:13.609723Z",
     "shell.execute_reply": "2023-05-27T04:06:13.609167Z"
    },
    "jupyter": {
     "source_hidden": true
    },
    "papermill": {
     "duration": 0.153536,
     "end_time": "2023-05-27T04:06:13.611163",
     "exception": false,
     "start_time": "2023-05-27T04:06:13.457627",
     "status": "completed"
    },
    "tags": []
   },
   "outputs": [],
   "source": [
    "spark.stop()"
   ]
  }
 ],
 "metadata": {
  "kernelspec": {
   "display_name": "Python 3 (ipykernel)",
   "language": "python",
   "name": "python3"
  },
  "language_info": {
   "codemirror_mode": {
    "name": "ipython",
    "version": 3
   },
   "file_extension": ".py",
   "mimetype": "text/x-python",
   "name": "python",
   "nbconvert_exporter": "python",
   "pygments_lexer": "ipython3",
   "version": "3.7.16"
  },
  "papermill": {
   "default_parameters": {},
   "duration": 29.560658,
   "end_time": "2023-05-27T04:06:16.230839",
   "environment_variables": {},
   "exception": null,
   "input_path": "/opt/workspace/notebooks/raw.ipynb",
   "output_path": "/opt/workspace/notebooks/executions/raw/out-2023-05-26T00:00:00+00:00.ipynb",
   "parameters": {
    "execution_date": "2023-05-26T00:00:00+00:00"
   },
   "start_time": "2023-05-27T04:05:46.670181",
   "version": "2.4.0"
  }
 },
 "nbformat": 4,
 "nbformat_minor": 5
}