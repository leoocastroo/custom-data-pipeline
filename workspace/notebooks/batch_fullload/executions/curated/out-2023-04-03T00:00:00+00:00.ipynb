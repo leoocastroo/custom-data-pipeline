{
 "cells": [
  {
   "cell_type": "code",
   "execution_count": 1,
   "id": "5f222835",
   "metadata": {
    "execution": {
     "iopub.execute_input": "2023-04-04T20:26:45.675279Z",
     "iopub.status.busy": "2023-04-04T20:26:45.675028Z",
     "iopub.status.idle": "2023-04-04T20:26:45.680165Z",
     "shell.execute_reply": "2023-04-04T20:26:45.679727Z"
    },
    "jupyter": {
     "source_hidden": true
    },
    "papermill": {
     "duration": 0.010013,
     "end_time": "2023-04-04T20:26:45.681347",
     "exception": false,
     "start_time": "2023-04-04T20:26:45.671334",
     "status": "completed"
    },
    "tags": [
     "injected-parameters"
    ]
   },
   "outputs": [],
   "source": [
    "# Parameters\n",
    "execution_date = \"2023-04-03T00:00:00+00:00\"\n"
   ]
  },
  {
   "cell_type": "code",
   "execution_count": 2,
   "id": "e0efa723-6144-4244-925e-ffdbeef7b4bb",
   "metadata": {
    "execution": {
     "iopub.execute_input": "2023-04-04T20:26:45.685350Z",
     "iopub.status.busy": "2023-04-04T20:26:45.685123Z",
     "iopub.status.idle": "2023-04-04T20:26:45.808732Z",
     "shell.execute_reply": "2023-04-04T20:26:45.808225Z"
    },
    "jupyter": {
     "source_hidden": true
    },
    "papermill": {
     "duration": 0.127143,
     "end_time": "2023-04-04T20:26:45.810191",
     "exception": false,
     "start_time": "2023-04-04T20:26:45.683048",
     "status": "completed"
    },
    "tags": []
   },
   "outputs": [],
   "source": [
    "from delta import configure_spark_with_delta_pip\n",
    "from delta.tables import DeltaTable\n",
    "from pyspark.sql import SparkSession\n",
    "from pyspark.sql.functions import col"
   ]
  },
  {
   "cell_type": "code",
   "execution_count": 3,
   "id": "df31a989-02b7-4952-9732-332f0e6d8cf5",
   "metadata": {
    "execution": {
     "iopub.execute_input": "2023-04-04T20:26:45.813805Z",
     "iopub.status.busy": "2023-04-04T20:26:45.813380Z",
     "iopub.status.idle": "2023-04-04T20:26:48.934761Z",
     "shell.execute_reply": "2023-04-04T20:26:48.934098Z"
    },
    "jupyter": {
     "source_hidden": true
    },
    "papermill": {
     "duration": 3.125042,
     "end_time": "2023-04-04T20:26:48.936523",
     "exception": false,
     "start_time": "2023-04-04T20:26:45.811481",
     "status": "completed"
    },
    "tags": []
   },
   "outputs": [
    {
     "name": "stderr",
     "output_type": "stream",
     "text": [
      "/home/airflow/.local/lib/python3.7/site-packages/pyspark/bin/load-spark-env.sh: line 68: ps: command not found\n"
     ]
    },
    {
     "name": "stdout",
     "output_type": "stream",
     "text": [
      ":: loading settings :: url = jar:file:/home/airflow/.local/lib/python3.7/site-packages/pyspark/jars/ivy-2.5.1.jar!/org/apache/ivy/core/settings/ivysettings.xml\n"
     ]
    },
    {
     "name": "stderr",
     "output_type": "stream",
     "text": [
      "Ivy Default Cache set to: /home/airflow/.ivy2/cache\n",
      "The jars for the packages stored in: /home/airflow/.ivy2/jars\n",
      "io.delta#delta-core_2.12 added as a dependency\n",
      ":: resolving dependencies :: org.apache.spark#spark-submit-parent-5772dc68-e545-4bb0-9fb3-49a86b6a05f3;1.0\n",
      "\tconfs: [default]\n",
      "\tfound io.delta#delta-core_2.12;2.2.0 in central\n",
      "\tfound io.delta#delta-storage;2.2.0 in central\n",
      "\tfound org.antlr#antlr4-runtime;4.8 in central\n",
      ":: resolution report :: resolve 115ms :: artifacts dl 4ms\n",
      "\t:: modules in use:\n",
      "\tio.delta#delta-core_2.12;2.2.0 from central in [default]\n",
      "\tio.delta#delta-storage;2.2.0 from central in [default]\n",
      "\torg.antlr#antlr4-runtime;4.8 from central in [default]\n",
      "\t---------------------------------------------------------------------\n",
      "\t|                  |            modules            ||   artifacts   |\n",
      "\t|       conf       | number| search|dwnlded|evicted|| number|dwnlded|\n",
      "\t---------------------------------------------------------------------\n",
      "\t|      default     |   3   |   0   |   0   |   0   ||   3   |   0   |\n",
      "\t---------------------------------------------------------------------\n",
      ":: retrieving :: org.apache.spark#spark-submit-parent-5772dc68-e545-4bb0-9fb3-49a86b6a05f3\n",
      "\tconfs: [default]\n",
      "\t0 artifacts copied, 3 already retrieved (0kB/5ms)\n"
     ]
    },
    {
     "name": "stdout",
     "output_type": "stream",
     "text": [
      "23/04/04 20:26:47 WARN NativeCodeLoader: Unable to load native-hadoop library for your platform... using builtin-java classes where applicable\n"
     ]
    },
    {
     "name": "stderr",
     "output_type": "stream",
     "text": [
      "Setting default log level to \"WARN\".\n",
      "To adjust logging level use sc.setLogLevel(newLevel). For SparkR, use setLogLevel(newLevel).\n"
     ]
    }
   ],
   "source": [
    "builder = SparkSession.builder.master(\"spark://spark-master:7077\").appName(\"curatedApp\") \\\n",
    "    .config(\"spark.sql.extensions\", \"io.delta.sql.DeltaSparkSessionExtension\") \\\n",
    "    .config(\"spark.sql.catalog.spark_catalog\", \"org.apache.spark.sql.delta.catalog.DeltaCatalog\")\n",
    "\n",
    "spark = configure_spark_with_delta_pip(builder).getOrCreate()"
   ]
  },
  {
   "cell_type": "code",
   "execution_count": 4,
   "id": "2b23f67c-c02e-43ab-bd61-35cc3ca2cbd9",
   "metadata": {
    "execution": {
     "iopub.execute_input": "2023-04-04T20:26:48.941839Z",
     "iopub.status.busy": "2023-04-04T20:26:48.941430Z",
     "iopub.status.idle": "2023-04-04T20:26:59.820536Z",
     "shell.execute_reply": "2023-04-04T20:26:59.819803Z"
    },
    "jupyter": {
     "source_hidden": true
    },
    "papermill": {
     "duration": 10.883586,
     "end_time": "2023-04-04T20:26:59.822369",
     "exception": false,
     "start_time": "2023-04-04T20:26:48.938783",
     "status": "completed"
    },
    "tags": []
   },
   "outputs": [
    {
     "name": "stdout",
     "output_type": "stream",
     "text": [
      "23/04/04 20:26:52 WARN package: Truncated the string representation of a plan since it was too large. This behavior can be adjusted by setting 'spark.sql.debug.maxToStringFields'.\n"
     ]
    },
    {
     "name": "stderr",
     "output_type": "stream",
     "text": [
      "\r",
      "[Stage 0:>                                                          (0 + 1) / 2]\r"
     ]
    },
    {
     "name": "stderr",
     "output_type": "stream",
     "text": [
      "\r",
      "[Stage 0:=============================>                             (1 + 1) / 2]\r"
     ]
    },
    {
     "name": "stderr",
     "output_type": "stream",
     "text": [
      "\r",
      "[Stage 2:>                                                         (0 + 1) / 50]\r"
     ]
    },
    {
     "name": "stderr",
     "output_type": "stream",
     "text": [
      "\r",
      "[Stage 2:=>                                                        (1 + 1) / 50]\r",
      "\r",
      "[Stage 2:==>                                                       (2 + 1) / 50]\r"
     ]
    },
    {
     "name": "stderr",
     "output_type": "stream",
     "text": [
      "\r",
      "[Stage 2:======>                                                   (6 + 1) / 50]\r",
      "\r",
      "[Stage 2:============>                                            (11 + 1) / 50]\r"
     ]
    },
    {
     "name": "stderr",
     "output_type": "stream",
     "text": [
      "\r",
      "[Stage 2:===================>                                     (17 + 1) / 50]\r",
      "\r",
      "[Stage 2:=========================>                               (22 + 1) / 50]\r"
     ]
    },
    {
     "name": "stderr",
     "output_type": "stream",
     "text": [
      "\r",
      "[Stage 2:=================================>                       (29 + 1) / 50]\r",
      "\r",
      "[Stage 2:=========================================>               (36 + 1) / 50]\r"
     ]
    },
    {
     "name": "stderr",
     "output_type": "stream",
     "text": [
      "\r",
      "[Stage 2:=================================================>       (43 + 1) / 50]\r"
     ]
    },
    {
     "name": "stderr",
     "output_type": "stream",
     "text": [
      "\r",
      "                                                                                \r"
     ]
    }
   ],
   "source": [
    "df = spark.read.format('delta').load('/opt/workspace/data/cleaned/iris/')"
   ]
  },
  {
   "cell_type": "code",
   "execution_count": 5,
   "id": "6bea6f04-f0ec-4cf3-bef4-8ad78b84c5a2",
   "metadata": {
    "execution": {
     "iopub.execute_input": "2023-04-04T20:26:59.829721Z",
     "iopub.status.busy": "2023-04-04T20:26:59.829277Z",
     "iopub.status.idle": "2023-04-04T20:26:59.952915Z",
     "shell.execute_reply": "2023-04-04T20:26:59.952176Z"
    },
    "jupyter": {
     "source_hidden": true
    },
    "papermill": {
     "duration": 0.129883,
     "end_time": "2023-04-04T20:26:59.955466",
     "exception": false,
     "start_time": "2023-04-04T20:26:59.825583",
     "status": "completed"
    },
    "tags": []
   },
   "outputs": [],
   "source": [
    "df = (\n",
    "    df\n",
    "    .groupBy('Species')\n",
    "    .agg({\n",
    "        'SepalLengthCm': 'sum', \n",
    "        'SepalWidthCm': 'sum', \n",
    "        'PetalLengthCm': 'sum', \n",
    "        'PetalWidthCm': 'sum'}\n",
    "    ).withColumn('sum_petal_widhcm', col('sum(PetalWidthCm)').cast('decimal(12, 2)'))\n",
    "    .withColumn('sum_sepal_widhcm', col('sum(SepalWidthCm)').cast('decimal(12, 2)'))\n",
    "    .withColumn('sum_petal_lengthcm', col('sum(PetalLengthCm)').cast('decimal(12, 2)'))\n",
    "    .withColumn('sum_sepal_lengthcm', col('sum(SepalLengthCm)').cast('decimal(12, 2)'))\n",
    "    .select(\n",
    "        'sum_petal_widhcm',\n",
    "        'sum_sepal_widhcm',\n",
    "        'sum_petal_lengthcm',\n",
    "        'sum_sepal_lengthcm'\n",
    "    )\n",
    ")"
   ]
  },
  {
   "cell_type": "code",
   "execution_count": 6,
   "id": "4c6fd382-a8eb-4d25-a7a3-f39e83dff263",
   "metadata": {
    "execution": {
     "iopub.execute_input": "2023-04-04T20:26:59.965292Z",
     "iopub.status.busy": "2023-04-04T20:26:59.964582Z",
     "iopub.status.idle": "2023-04-04T20:27:05.943979Z",
     "shell.execute_reply": "2023-04-04T20:27:05.943523Z"
    },
    "jupyter": {
     "source_hidden": true
    },
    "papermill": {
     "duration": 5.985431,
     "end_time": "2023-04-04T20:27:05.945361",
     "exception": false,
     "start_time": "2023-04-04T20:26:59.959930",
     "status": "completed"
    },
    "tags": []
   },
   "outputs": [
    {
     "name": "stderr",
     "output_type": "stream",
     "text": [
      "\r",
      "[Stage 8:====================>                                    (18 + 1) / 50]\r",
      "\r",
      "[Stage 8:==============================>                          (27 + 1) / 50]\r"
     ]
    },
    {
     "name": "stderr",
     "output_type": "stream",
     "text": [
      "\r",
      "[Stage 8:=======================================>                 (35 + 1) / 50]\r",
      "\r",
      "[Stage 8:==================================================>      (44 + 1) / 50]\r"
     ]
    },
    {
     "name": "stderr",
     "output_type": "stream",
     "text": [
      "\r",
      "                                                                                \r"
     ]
    },
    {
     "name": "stderr",
     "output_type": "stream",
     "text": [
      "\r",
      "[Stage 14:>                                                         (0 + 1) / 1]\r"
     ]
    },
    {
     "name": "stderr",
     "output_type": "stream",
     "text": [
      "\r",
      "                                                                                \r"
     ]
    },
    {
     "name": "stderr",
     "output_type": "stream",
     "text": [
      "\r",
      "[Stage 21:==========================>                             (24 + 1) / 50]\r",
      "\r",
      "[Stage 21:====================================>                   (33 + 1) / 50]\r"
     ]
    },
    {
     "name": "stderr",
     "output_type": "stream",
     "text": [
      "\r",
      "[Stage 21:===============================================>        (42 + 1) / 50]\r"
     ]
    },
    {
     "name": "stderr",
     "output_type": "stream",
     "text": [
      "\r",
      "                                                                                \r"
     ]
    }
   ],
   "source": [
    "df.write.mode('overwrite').format('delta').save('/opt/workspace/data/curated/iris/')"
   ]
  },
  {
   "cell_type": "code",
   "execution_count": 7,
   "id": "83df344c-8ce2-4862-a3c0-685ddc1fd092",
   "metadata": {
    "execution": {
     "iopub.execute_input": "2023-04-04T20:27:05.953587Z",
     "iopub.status.busy": "2023-04-04T20:27:05.953165Z",
     "iopub.status.idle": "2023-04-04T20:27:06.321515Z",
     "shell.execute_reply": "2023-04-04T20:27:06.320851Z"
    },
    "jupyter": {
     "source_hidden": true
    },
    "papermill": {
     "duration": 0.374,
     "end_time": "2023-04-04T20:27:06.323073",
     "exception": false,
     "start_time": "2023-04-04T20:27:05.949073",
     "status": "completed"
    },
    "tags": []
   },
   "outputs": [],
   "source": [
    "spark.stop()"
   ]
  }
 ],
 "metadata": {
  "kernelspec": {
   "display_name": "Python 3 (ipykernel)",
   "language": "python",
   "name": "python3"
  },
  "language_info": {
   "codemirror_mode": {
    "name": "ipython",
    "version": 3
   },
   "file_extension": ".py",
   "mimetype": "text/x-python",
   "name": "python",
   "nbconvert_exporter": "python",
   "pygments_lexer": "ipython3",
   "version": "3.7.16"
  },
  "papermill": {
   "default_parameters": {},
   "duration": 24.419082,
   "end_time": "2023-04-04T20:27:08.943147",
   "environment_variables": {},
   "exception": null,
   "input_path": "/opt/workspace/notebooks/curated.ipynb",
   "output_path": "/opt/workspace/notebooks/executions/curated/out-2023-04-03T00:00:00+00:00.ipynb",
   "parameters": {
    "execution_date": "2023-04-03T00:00:00+00:00"
   },
   "start_time": "2023-04-04T20:26:44.524065",
   "version": "2.4.0"
  }
 },
 "nbformat": 4,
 "nbformat_minor": 5
}