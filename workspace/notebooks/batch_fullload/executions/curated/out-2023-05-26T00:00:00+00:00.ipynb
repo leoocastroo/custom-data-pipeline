{
 "cells": [
  {
   "cell_type": "code",
   "execution_count": 1,
   "id": "2e151d2f",
   "metadata": {
    "execution": {
     "iopub.execute_input": "2023-05-27T04:06:43.302794Z",
     "iopub.status.busy": "2023-05-27T04:06:43.302543Z",
     "iopub.status.idle": "2023-05-27T04:06:43.307702Z",
     "shell.execute_reply": "2023-05-27T04:06:43.307270Z"
    },
    "jupyter": {
     "source_hidden": true
    },
    "papermill": {
     "duration": 0.010258,
     "end_time": "2023-05-27T04:06:43.309025",
     "exception": false,
     "start_time": "2023-05-27T04:06:43.298767",
     "status": "completed"
    },
    "tags": [
     "injected-parameters"
    ]
   },
   "outputs": [],
   "source": [
    "# Parameters\n",
    "execution_date = \"2023-05-26T00:00:00+00:00\"\n"
   ]
  },
  {
   "cell_type": "code",
   "execution_count": 2,
   "id": "e0efa723-6144-4244-925e-ffdbeef7b4bb",
   "metadata": {
    "execution": {
     "iopub.execute_input": "2023-05-27T04:06:43.312954Z",
     "iopub.status.busy": "2023-05-27T04:06:43.312540Z",
     "iopub.status.idle": "2023-05-27T04:06:43.462811Z",
     "shell.execute_reply": "2023-05-27T04:06:43.462322Z"
    },
    "jupyter": {
     "source_hidden": true
    },
    "papermill": {
     "duration": 0.153714,
     "end_time": "2023-05-27T04:06:43.464327",
     "exception": false,
     "start_time": "2023-05-27T04:06:43.310613",
     "status": "completed"
    },
    "tags": []
   },
   "outputs": [],
   "source": [
    "from delta import configure_spark_with_delta_pip\n",
    "from delta.tables import DeltaTable\n",
    "from pyspark.sql import SparkSession\n",
    "from pyspark.sql.functions import col"
   ]
  },
  {
   "cell_type": "code",
   "execution_count": 3,
   "id": "df31a989-02b7-4952-9732-332f0e6d8cf5",
   "metadata": {
    "execution": {
     "iopub.execute_input": "2023-05-27T04:06:43.468372Z",
     "iopub.status.busy": "2023-05-27T04:06:43.468074Z",
     "iopub.status.idle": "2023-05-27T04:06:46.378434Z",
     "shell.execute_reply": "2023-05-27T04:06:46.377864Z"
    },
    "jupyter": {
     "source_hidden": true
    },
    "papermill": {
     "duration": 2.914305,
     "end_time": "2023-05-27T04:06:46.380026",
     "exception": false,
     "start_time": "2023-05-27T04:06:43.465721",
     "status": "completed"
    },
    "tags": []
   },
   "outputs": [
    {
     "name": "stderr",
     "output_type": "stream",
     "text": [
      "/home/airflow/.local/lib/python3.7/site-packages/pyspark/bin/load-spark-env.sh: line 68: ps: command not found\n"
     ]
    },
    {
     "name": "stdout",
     "output_type": "stream",
     "text": [
      ":: loading settings :: url = jar:file:/home/airflow/.local/lib/python3.7/site-packages/pyspark/jars/ivy-2.5.1.jar!/org/apache/ivy/core/settings/ivysettings.xml\n"
     ]
    },
    {
     "name": "stderr",
     "output_type": "stream",
     "text": [
      "Ivy Default Cache set to: /home/airflow/.ivy2/cache\n",
      "The jars for the packages stored in: /home/airflow/.ivy2/jars\n",
      "io.delta#delta-core_2.12 added as a dependency\n",
      ":: resolving dependencies :: org.apache.spark#spark-submit-parent-30a3ff6a-2e59-435e-8c2d-f22cafa52e7a;1.0\n",
      "\tconfs: [default]\n",
      "\tfound io.delta#delta-core_2.12;2.2.0 in central\n",
      "\tfound io.delta#delta-storage;2.2.0 in central\n",
      "\tfound org.antlr#antlr4-runtime;4.8 in central\n",
      ":: resolution report :: resolve 114ms :: artifacts dl 4ms\n",
      "\t:: modules in use:\n",
      "\tio.delta#delta-core_2.12;2.2.0 from central in [default]\n",
      "\tio.delta#delta-storage;2.2.0 from central in [default]\n",
      "\torg.antlr#antlr4-runtime;4.8 from central in [default]\n",
      "\t---------------------------------------------------------------------\n",
      "\t|                  |            modules            ||   artifacts   |\n",
      "\t|       conf       | number| search|dwnlded|evicted|| number|dwnlded|\n",
      "\t---------------------------------------------------------------------\n",
      "\t|      default     |   3   |   0   |   0   |   0   ||   3   |   0   |\n",
      "\t---------------------------------------------------------------------\n",
      ":: retrieving :: org.apache.spark#spark-submit-parent-30a3ff6a-2e59-435e-8c2d-f22cafa52e7a\n",
      "\tconfs: [default]\n",
      "\t0 artifacts copied, 3 already retrieved (0kB/4ms)\n"
     ]
    },
    {
     "name": "stdout",
     "output_type": "stream",
     "text": [
      "23/05/27 04:06:45 WARN NativeCodeLoader: Unable to load native-hadoop library for your platform... using builtin-java classes where applicable\n"
     ]
    },
    {
     "name": "stderr",
     "output_type": "stream",
     "text": [
      "Setting default log level to \"WARN\".\n",
      "To adjust logging level use sc.setLogLevel(newLevel). For SparkR, use setLogLevel(newLevel).\n"
     ]
    }
   ],
   "source": [
    "builder = SparkSession.builder.master(\"spark://spark-master:7077\").appName(\"curatedApp\") \\\n",
    "    .config(\"spark.sql.extensions\", \"io.delta.sql.DeltaSparkSessionExtension\") \\\n",
    "    .config(\"spark.sql.catalog.spark_catalog\", \"org.apache.spark.sql.delta.catalog.DeltaCatalog\")\n",
    "\n",
    "spark = configure_spark_with_delta_pip(builder).getOrCreate()"
   ]
  },
  {
   "cell_type": "code",
   "execution_count": 4,
   "id": "2b23f67c-c02e-43ab-bd61-35cc3ca2cbd9",
   "metadata": {
    "execution": {
     "iopub.execute_input": "2023-05-27T04:06:46.384371Z",
     "iopub.status.busy": "2023-05-27T04:06:46.384037Z",
     "iopub.status.idle": "2023-05-27T04:06:56.683531Z",
     "shell.execute_reply": "2023-05-27T04:06:56.682240Z"
    },
    "jupyter": {
     "source_hidden": true
    },
    "papermill": {
     "duration": 10.303808,
     "end_time": "2023-05-27T04:06:56.685452",
     "exception": false,
     "start_time": "2023-05-27T04:06:46.381644",
     "status": "completed"
    },
    "tags": []
   },
   "outputs": [
    {
     "name": "stdout",
     "output_type": "stream",
     "text": [
      "23/05/27 04:06:49 WARN package: Truncated the string representation of a plan since it was too large. This behavior can be adjusted by setting 'spark.sql.debug.maxToStringFields'.\n"
     ]
    },
    {
     "name": "stderr",
     "output_type": "stream",
     "text": [
      "\r",
      "[Stage 0:>                                                          (0 + 1) / 2]\r"
     ]
    },
    {
     "name": "stderr",
     "output_type": "stream",
     "text": [
      "\r",
      "[Stage 2:>                                                         (0 + 1) / 50]\r"
     ]
    },
    {
     "name": "stderr",
     "output_type": "stream",
     "text": [
      "\r",
      "[Stage 2:==>                                                       (2 + 1) / 50]\r",
      "\r",
      "[Stage 2:===>                                                      (3 + 1) / 50]\r"
     ]
    },
    {
     "name": "stderr",
     "output_type": "stream",
     "text": [
      "\r",
      "[Stage 2:========>                                                 (7 + 1) / 50]\r",
      "\r",
      "[Stage 2:============>                                            (11 + 1) / 50]\r"
     ]
    },
    {
     "name": "stderr",
     "output_type": "stream",
     "text": [
      "\r",
      "[Stage 2:===================>                                     (17 + 1) / 50]\r",
      "\r",
      "[Stage 2:=======================>                                 (21 + 1) / 50]\r"
     ]
    },
    {
     "name": "stderr",
     "output_type": "stream",
     "text": [
      "\r",
      "[Stage 2:=============================>                           (26 + 1) / 50]\r",
      "\r",
      "[Stage 2:===================================>                     (31 + 1) / 50]\r"
     ]
    },
    {
     "name": "stderr",
     "output_type": "stream",
     "text": [
      "\r",
      "[Stage 2:==========================================>              (37 + 1) / 50]\r",
      "\r",
      "[Stage 2:=================================================>       (43 + 1) / 50]\r"
     ]
    },
    {
     "name": "stderr",
     "output_type": "stream",
     "text": [
      "\r",
      "                                                                                \r"
     ]
    }
   ],
   "source": [
    "df = spark.read.format('delta').load('/opt/workspace/data/cleaned/iris/')"
   ]
  },
  {
   "cell_type": "code",
   "execution_count": 5,
   "id": "6bea6f04-f0ec-4cf3-bef4-8ad78b84c5a2",
   "metadata": {
    "execution": {
     "iopub.execute_input": "2023-05-27T04:06:56.693190Z",
     "iopub.status.busy": "2023-05-27T04:06:56.692160Z",
     "iopub.status.idle": "2023-05-27T04:06:56.795707Z",
     "shell.execute_reply": "2023-05-27T04:06:56.795081Z"
    },
    "jupyter": {
     "source_hidden": true
    },
    "papermill": {
     "duration": 0.109115,
     "end_time": "2023-05-27T04:06:56.797452",
     "exception": false,
     "start_time": "2023-05-27T04:06:56.688337",
     "status": "completed"
    },
    "tags": []
   },
   "outputs": [],
   "source": [
    "df = (\n",
    "    df\n",
    "    .groupBy('Species')\n",
    "    .agg({\n",
    "        'SepalLengthCm': 'sum', \n",
    "        'SepalWidthCm': 'sum', \n",
    "        'PetalLengthCm': 'sum', \n",
    "        'PetalWidthCm': 'sum'}\n",
    "    ).withColumn('sum_petal_widhcm', col('sum(PetalWidthCm)').cast('decimal(12, 2)'))\n",
    "    .withColumn('sum_sepal_widhcm', col('sum(SepalWidthCm)').cast('decimal(12, 2)'))\n",
    "    .withColumn('sum_petal_lengthcm', col('sum(PetalLengthCm)').cast('decimal(12, 2)'))\n",
    "    .withColumn('sum_sepal_lengthcm', col('sum(SepalLengthCm)').cast('decimal(12, 2)'))\n",
    "    .select(\n",
    "        'sum_petal_widhcm',\n",
    "        'sum_sepal_widhcm',\n",
    "        'sum_petal_lengthcm',\n",
    "        'sum_sepal_lengthcm'\n",
    "    )\n",
    ")"
   ]
  },
  {
   "cell_type": "code",
   "execution_count": 6,
   "id": "4c6fd382-a8eb-4d25-a7a3-f39e83dff263",
   "metadata": {
    "execution": {
     "iopub.execute_input": "2023-05-27T04:06:56.803659Z",
     "iopub.status.busy": "2023-05-27T04:06:56.803121Z",
     "iopub.status.idle": "2023-05-27T04:07:02.745079Z",
     "shell.execute_reply": "2023-05-27T04:07:02.744621Z"
    },
    "jupyter": {
     "source_hidden": true
    },
    "papermill": {
     "duration": 5.946159,
     "end_time": "2023-05-27T04:07:02.746109",
     "exception": false,
     "start_time": "2023-05-27T04:06:56.799950",
     "status": "completed"
    },
    "tags": []
   },
   "outputs": [
    {
     "name": "stderr",
     "output_type": "stream",
     "text": [
      "\r",
      "[Stage 8:==================>                                      (16 + 1) / 50]\r",
      "\r",
      "[Stage 8:==========================>                              (23 + 1) / 50]\r"
     ]
    },
    {
     "name": "stderr",
     "output_type": "stream",
     "text": [
      "\r",
      "[Stage 8:===================================>                     (31 + 1) / 50]\r",
      "\r",
      "[Stage 8:============================================>            (39 + 1) / 50]\r"
     ]
    },
    {
     "name": "stderr",
     "output_type": "stream",
     "text": [
      "\r",
      "[Stage 8:=====================================================>   (47 + 1) / 50]\r",
      "\r",
      "                                                                                \r"
     ]
    },
    {
     "name": "stderr",
     "output_type": "stream",
     "text": [
      "\r",
      "[Stage 21:=================================>                      (30 + 1) / 50]\r",
      "\r",
      "[Stage 21:============================================>           (40 + 1) / 50]\r"
     ]
    },
    {
     "name": "stderr",
     "output_type": "stream",
     "text": [
      "\r",
      "                                                                                \r"
     ]
    }
   ],
   "source": [
    "df.write.mode('overwrite').format('delta').save('/opt/workspace/data/curated/iris/')"
   ]
  },
  {
   "cell_type": "code",
   "execution_count": 7,
   "id": "83df344c-8ce2-4862-a3c0-685ddc1fd092",
   "metadata": {
    "execution": {
     "iopub.execute_input": "2023-05-27T04:07:02.751381Z",
     "iopub.status.busy": "2023-05-27T04:07:02.750954Z",
     "iopub.status.idle": "2023-05-27T04:07:03.269133Z",
     "shell.execute_reply": "2023-05-27T04:07:03.268519Z"
    },
    "jupyter": {
     "source_hidden": true
    },
    "papermill": {
     "duration": 0.522344,
     "end_time": "2023-05-27T04:07:03.270683",
     "exception": false,
     "start_time": "2023-05-27T04:07:02.748339",
     "status": "completed"
    },
    "tags": []
   },
   "outputs": [],
   "source": [
    "spark.stop()"
   ]
  }
 ],
 "metadata": {
  "kernelspec": {
   "display_name": "Python 3 (ipykernel)",
   "language": "python",
   "name": "python3"
  },
  "language_info": {
   "codemirror_mode": {
    "name": "ipython",
    "version": 3
   },
   "file_extension": ".py",
   "mimetype": "text/x-python",
   "name": "python",
   "nbconvert_exporter": "python",
   "pygments_lexer": "ipython3",
   "version": "3.7.16"
  },
  "papermill": {
   "default_parameters": {},
   "duration": 23.907213,
   "end_time": "2023-05-27T04:07:05.889801",
   "environment_variables": {},
   "exception": null,
   "input_path": "/opt/workspace/notebooks/curated.ipynb",
   "output_path": "/opt/workspace/notebooks/executions/curated/out-2023-05-26T00:00:00+00:00.ipynb",
   "parameters": {
    "execution_date": "2023-05-26T00:00:00+00:00"
   },
   "start_time": "2023-05-27T04:06:41.982588",
   "version": "2.4.0"
  }
 },
 "nbformat": 4,
 "nbformat_minor": 5
}