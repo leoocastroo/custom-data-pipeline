{
 "cells": [
  {
   "cell_type": "code",
   "execution_count": 10,
   "id": "e0efa723-6144-4244-925e-ffdbeef7b4bb",
   "metadata": {
    "tags": []
   },
   "outputs": [],
   "source": [
    "from delta import configure_spark_with_delta_pip\n",
    "from delta.tables import DeltaTable\n",
    "from pyspark.sql import SparkSession\n",
    "from pyspark.sql.functions import col"
   ]
  },
  {
   "cell_type": "code",
   "execution_count": 17,
   "id": "df31a989-02b7-4952-9732-332f0e6d8cf5",
   "metadata": {
    "tags": []
   },
   "outputs": [],
   "source": [
    "builder = (\n",
    "    SparkSession\n",
    "    .builder\n",
    "    .master(\"spark://spark-master:7077\")\n",
    "    .appName(\"rawApp\")\n",
    "    .config(\"spark.sql.extensions\", \"io.delta.sql.DeltaSparkSessionExtension\") \n",
    "    .config(\"spark.sql.catalog.spark_catalog\", \"org.apache.spark.sql.delta.catalog.DeltaCatalog\")\n",
    ")\n",
    "\n",
    "spark = configure_spark_with_delta_pip(builder).getOrCreate()"
   ]
  },
  {
   "cell_type": "code",
   "execution_count": 18,
   "id": "2b23f67c-c02e-43ab-bd61-35cc3ca2cbd9",
   "metadata": {
    "tags": []
   },
   "outputs": [],
   "source": [
    "df = spark.read.format('delta').load('/opt/workspace/data/cleaned/iris/')"
   ]
  },
  {
   "cell_type": "code",
   "execution_count": 19,
   "id": "6bea6f04-f0ec-4cf3-bef4-8ad78b84c5a2",
   "metadata": {
    "tags": []
   },
   "outputs": [],
   "source": [
    "df = (\n",
    "    df\n",
    "    .groupBy('Species')\n",
    "    .agg({\n",
    "        'SepalLengthCm': 'avg', \n",
    "        'SepalWidthCm': 'avg', \n",
    "        'PetalLengthCm': 'avg', \n",
    "        'PetalWidthCm': 'avg'}\n",
    "    )\n",
    "    .withColumn('avg_petal_widhcm', col('avg(PetalWidthCm)').cast('decimal(12, 2)'))\n",
    "    .withColumn('avg_sepal_widhcm', col('avg(SepalWidthCm)').cast('decimal(12, 2)'))\n",
    "    .withColumn('avg_petal_lengthcm', col('avg(PetalLengthCm)').cast('decimal(12, 2)'))\n",
    "    .withColumn('avg_sepal_lengthcm', col('avg(SepalLengthCm)').cast('decimal(12, 2)'))\n",
    "    .select(\n",
    "        'Species',\n",
    "        'avg_petal_widhcm',\n",
    "        'avg_sepal_widhcm',\n",
    "        'avg_petal_lengthcm',\n",
    "        'avg_sepal_lengthcm'\n",
    "    )\n",
    ")"
   ]
  },
  {
   "cell_type": "code",
   "execution_count": 20,
   "id": "55cd0d8c-a40c-4676-b1fe-7f34c56bfcbb",
   "metadata": {
    "tags": []
   },
   "outputs": [
    {
     "name": "stdout",
     "output_type": "stream",
     "text": [
      "+---------------+----------------+----------------+------------------+------------------+\n",
      "|        Species|avg_petal_widhcm|avg_sepal_widhcm|avg_petal_lengthcm|avg_sepal_lengthcm|\n",
      "+---------------+----------------+----------------+------------------+------------------+\n",
      "| Iris-virginica|            2.03|            2.97|              5.55|              6.59|\n",
      "|    Iris-setosa|            0.24|            3.42|              1.46|              5.01|\n",
      "|Iris-versicolor|            1.33|            2.77|              4.26|              5.94|\n",
      "+---------------+----------------+----------------+------------------+------------------+\n",
      "\n"
     ]
    }
   ],
   "source": [
    "df.show()"
   ]
  },
  {
   "cell_type": "code",
   "execution_count": 22,
   "id": "4c6fd382-a8eb-4d25-a7a3-f39e83dff263",
   "metadata": {
    "tags": []
   },
   "outputs": [],
   "source": [
    "df.write.option(\"mergeSchema\", \"true\").mode('overwrite').format('delta').save('/opt/workspace/data/curated/iris/')"
   ]
  },
  {
   "cell_type": "code",
   "execution_count": 23,
   "id": "83df344c-8ce2-4862-a3c0-685ddc1fd092",
   "metadata": {
    "tags": []
   },
   "outputs": [],
   "source": [
    "spark.stop()"
   ]
  }
 ],
 "metadata": {
  "kernelspec": {
   "display_name": "Python 3 (ipykernel)",
   "language": "python",
   "name": "python3"
  },
  "language_info": {
   "codemirror_mode": {
    "name": "ipython",
    "version": 3
   },
   "file_extension": ".py",
   "mimetype": "text/x-python",
   "name": "python",
   "nbconvert_exporter": "python",
   "pygments_lexer": "ipython3",
   "version": "3.10.10"
  }
 },
 "nbformat": 4,
 "nbformat_minor": 5
}
