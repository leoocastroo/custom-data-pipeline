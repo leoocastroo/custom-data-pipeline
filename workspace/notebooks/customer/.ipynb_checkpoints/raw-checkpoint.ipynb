{
 "cells": [
  {
   "cell_type": "code",
   "execution_count": 47,
   "id": "2ec61e1c-c1c3-4790-add5-7f90732a794d",
   "metadata": {
    "tags": []
   },
   "outputs": [],
   "source": [
    "from delta import configure_spark_with_delta_pip\n",
    "from delta.tables import DeltaTable\n",
    "from pyspark.sql import SparkSession"
   ]
  },
  {
   "cell_type": "code",
   "execution_count": 48,
   "id": "c9d18718-a837-4dfb-9fc3-a1ffbd1bbd29",
   "metadata": {},
   "outputs": [],
   "source": [
    "jars = \"\"\"\n",
    "/opt/workspace/utils/jars/spark-sql-kafka-0-10_2.12-3.4.0.jar,\n",
    "/opt/workspace/utils/jars/kafka-clients-3.3.2.jar,\n",
    "/opt/workspace/utils/jars/spark-token-provider-kafka-0-10_2.12-3.4.0.jar,\n",
    "/opt/workspace/utils/jars/commons-pool2-2.11.1.jar\n",
    "\"\"\"\n",
    "\n",
    "builder = (\n",
    "    SparkSession\n",
    "    .builder\n",
    "    .master(\"spark://spark:7077\")\n",
    "    .appName(\"customer\")\n",
    "    .config(\"spark.sql.extensions\", \"io.delta.sql.DeltaSparkSessionExtension\") \n",
    "    .config(\"spark.sql.catalog.spark_catalog\", \"org.apache.spark.sql.delta.catalog.DeltaCatalog\")\n",
    "    .config(\"spark.jars\", jars)\n",
    ")\n",
    "\n",
    "spark = configure_spark_with_delta_pip(builder).getOrCreate()"
   ]
  },
  {
   "cell_type": "code",
   "execution_count": 55,
   "id": "2561487a-0f58-400a-af05-210ef980fdb2",
   "metadata": {},
   "outputs": [],
   "source": [
    "df = (\n",
    "    spark \n",
    "    .readStream\n",
    "    .format(\"kafka\")\n",
    "    .option(\"kafka.bootstrap.servers\", \"kafka:9093\") \n",
    "    .option(\"subscribe\", \"dbserver1.inventory.customers\")\n",
    "    .option(\"startingOffsets\" , \"earliest\")\n",
    "    .load()\n",
    ")"
   ]
  },
  {
   "cell_type": "code",
   "execution_count": 57,
   "id": "40b9084a-1afb-4e31-a5c4-6082e41e4b21",
   "metadata": {},
   "outputs": [],
   "source": [
    "query = (\n",
    "    df\n",
    "    .selectExpr(\"CAST(key AS STRING)\", \"CAST(value AS STRING)\")\n",
    "    .writeStream\n",
    "    .option(\"checkpointLocation\", '/opt/workspace/data/raw/test2/checkpoint/')\n",
    "    .trigger(once=True)\n",
    "    .start('/opt/workspace/data/raw/test2/')\n",
    ")\n",
    "\n",
    "query.awaitTermination()"
   ]
  },
  {
   "cell_type": "code",
   "execution_count": 59,
   "id": "bbaeeab9-af9d-48c0-ab38-4bd9c9a97d92",
   "metadata": {
    "tags": []
   },
   "outputs": [],
   "source": [
    "spark.stop()"
   ]
  }
 ],
 "metadata": {
  "kernelspec": {
   "display_name": "Python 3 (ipykernel)",
   "language": "python",
   "name": "python3"
  },
  "language_info": {
   "codemirror_mode": {
    "name": "ipython",
    "version": 3
   },
   "file_extension": ".py",
   "mimetype": "text/x-python",
   "name": "python",
   "nbconvert_exporter": "python",
   "pygments_lexer": "ipython3",
   "version": "3.11.3"
  }
 },
 "nbformat": 4,
 "nbformat_minor": 5
}
