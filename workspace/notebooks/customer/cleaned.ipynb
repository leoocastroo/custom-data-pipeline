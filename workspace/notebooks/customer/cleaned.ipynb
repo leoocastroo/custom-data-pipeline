{
 "cells": [
  {
   "cell_type": "code",
   "execution_count": 61,
   "id": "9c17ef11-f7fa-4314-9dca-33200d63df53",
   "metadata": {},
   "outputs": [],
   "source": [
    "from delta import configure_spark_with_delta_pip\n",
    "from delta.tables import DeltaTable\n",
    "from pyspark.sql import SparkSession\n",
    "from pyspark.sql.functions import from_json, col, row_number\n",
    "from pyspark.sql import Window"
   ]
  },
  {
   "cell_type": "code",
   "execution_count": 62,
   "id": "7a31675b-26c0-48de-a79b-a3c653efae09",
   "metadata": {},
   "outputs": [],
   "source": [
    "jars = \"\"\"\n",
    "/opt/workspace/utils/jars/spark-sql-kafka-0-10_2.12-3.4.0.jar,\n",
    "/opt/workspace/utils/jars/kafka-clients-3.3.2.jar,\n",
    "/opt/workspace/utils/jars/spark-token-provider-kafka-0-10_2.12-3.4.0.jar,\n",
    "/opt/workspace/utils/jars/commons-pool2-2.11.1.jar,\n",
    "/opt/workspace/utils/jars/delta-core_2.12-2.4.0.jar,\n",
    "/opt/workspace/utils/jars/delta-storage-2.4.0.jar\n",
    "\"\"\"\n",
    "\n",
    "builder = (\n",
    "    SparkSession\n",
    "    .builder\n",
    "    .master(\"spark://spark:7077\")\n",
    "    .appName(\"cleaned\")\n",
    "    .config(\"spark.sql.extensions\", \"io.delta.sql.DeltaSparkSessionExtension\") \n",
    "    .config(\"spark.sql.catalog.spark_catalog\", \"org.apache.spark.sql.delta.catalog.DeltaCatalog\")\n",
    "    .config(\"spark.jars\", jars)\n",
    ")\n",
    "\n",
    "spark = configure_spark_with_delta_pip(builder).getOrCreate()"
   ]
  },
  {
   "cell_type": "code",
   "execution_count": 63,
   "id": "880ac0ba-727b-4682-8d8f-fd0080876960",
   "metadata": {},
   "outputs": [
    {
     "data": {
      "text/markdown": [
       "\n",
       "Read delta streaming from raw data\n"
      ],
      "text/plain": [
       "<IPython.core.display.Markdown object>"
      ]
     },
     "metadata": {},
     "output_type": "display_data"
    }
   ],
   "source": [
    "%%markdown\n",
    "\n",
    "Read delta streaming from raw data"
   ]
  },
  {
   "cell_type": "code",
   "execution_count": 64,
   "id": "f8e22883-7ed6-47cc-bc43-1184834e0443",
   "metadata": {},
   "outputs": [],
   "source": [
    "df = spark.readStream.format('delta').load('/opt/workspace/data/raw/test/')"
   ]
  },
  {
   "cell_type": "code",
   "execution_count": 65,
   "id": "c6a0eda6-1ea6-4c46-aa5a-5b56f9b6aa97",
   "metadata": {},
   "outputs": [
    {
     "data": {
      "text/markdown": [
       "\n",
       "Transform the data\n"
      ],
      "text/plain": [
       "<IPython.core.display.Markdown object>"
      ]
     },
     "metadata": {},
     "output_type": "display_data"
    }
   ],
   "source": [
    "%%markdown\n",
    "\n",
    "Transform the data"
   ]
  },
  {
   "cell_type": "code",
   "execution_count": 66,
   "id": "1a47081b-99c8-4a79-aeff-2211200b534a",
   "metadata": {},
   "outputs": [],
   "source": [
    "schema = \"\"\"\n",
    "payload STRUCT<\n",
    "    before:STRING,\n",
    "    after:STRUCT<\n",
    "        id: STRING, \n",
    "        first_name: STRING, \n",
    "        last_name: STRING, \n",
    "        email: STRING\n",
    "    >, \n",
    "    op: STRING\n",
    ">\n",
    "\"\"\""
   ]
  },
  {
   "cell_type": "code",
   "execution_count": 67,
   "id": "a3f63050-8665-4022-a81b-6b1ab044548b",
   "metadata": {},
   "outputs": [],
   "source": [
    "df = (\n",
    "    df\n",
    "    .withColumn('json', from_json(col('value'), schema))\n",
    "    .withColumn('id', col('json.payload.after.id'))\n",
    "    .withColumn('first_name', col('json.payload.after.first_name'))\n",
    "    .withColumn('last_name', col('json.payload.after.last_name'))\n",
    "    .withColumn('email', col('json.payload.after.email'))\n",
    "    .withColumn('op', col('json.payload.op'))\n",
    "    .select(\n",
    "        'id',\n",
    "        'first_name',\n",
    "        'last_name',\n",
    "        'email',\n",
    "        'op',\n",
    "        'timestamp'\n",
    "    )\n",
    ")"
   ]
  },
  {
   "cell_type": "code",
   "execution_count": 68,
   "id": "81adb351-0e7e-496e-ab76-c050d5f8ec5d",
   "metadata": {},
   "outputs": [
    {
     "data": {
      "text/markdown": [
       "\n",
       "Write to cleaned path\n"
      ],
      "text/plain": [
       "<IPython.core.display.Markdown object>"
      ]
     },
     "metadata": {},
     "output_type": "display_data"
    }
   ],
   "source": [
    "%%markdown\n",
    "\n",
    "Write to cleaned path"
   ]
  },
  {
   "cell_type": "code",
   "execution_count": 69,
   "id": "783556c4-3be1-4bde-8f95-8382a7dd62c5",
   "metadata": {},
   "outputs": [],
   "source": [
    "def merge(micro_df, batch_id):\n",
    "    delta_df = DeltaTable.forPath(spark, '/opt/workspace/data/cleaned/test/') if DeltaTable.isDeltaTable(spark, '/opt/workspace/data/cleaned/test/') else None\n",
    "\n",
    "    w = Window.partitionBy(\"id\").orderBy(col(\"timestamp\").desc())\n",
    "    micro_df = (\n",
    "        micro_df\n",
    "        .withColumn(\"rn\", row_number().over(w))\n",
    "        .filter(\"rn = 1\")\n",
    "        .drop(\"rn\")\n",
    "    )\n",
    "    \n",
    "    if delta_df:\n",
    "        (\n",
    "            delta_df.alias('t')\n",
    "            .merge(\n",
    "                micro_df.alias('s'),\n",
    "                't.id = s.id'\n",
    "            )\n",
    "            .whenMatchedUpdateAll()\n",
    "            .whenNotMatchedInsertAll()\n",
    "        )\n",
    "    else:\n",
    "        micro_df.write.format('delta').save('/opt/workspace/data/cleaned/test/')"
   ]
  },
  {
   "cell_type": "code",
   "execution_count": 70,
   "id": "dc3e7e27-5b52-4e22-a551-dcae6886a15c",
   "metadata": {},
   "outputs": [],
   "source": [
    "query = (\n",
    "    df\n",
    "    .writeStream\n",
    "    .format('delta')\n",
    "    .foreachBatch(merge)\n",
    "    .option(\"checkpointLocation\", '/opt/workspace/data/cleaned/test/checkpoint/')\n",
    "    .trigger(once=True)\n",
    "    .start('/opt/workspace/data/cleaned/test/')\n",
    ")\n",
    "\n",
    "query.awaitTermination()"
   ]
  },
  {
   "cell_type": "code",
   "execution_count": 56,
   "id": "a1b1ed9d-ba7b-4817-96c8-70a134d8f526",
   "metadata": {},
   "outputs": [],
   "source": [
    "spark.stop()"
   ]
  }
 ],
 "metadata": {
  "kernelspec": {
   "display_name": "Python 3 (ipykernel)",
   "language": "python",
   "name": "python3"
  },
  "language_info": {
   "codemirror_mode": {
    "name": "ipython",
    "version": 3
   },
   "file_extension": ".py",
   "mimetype": "text/x-python",
   "name": "python",
   "nbconvert_exporter": "python",
   "pygments_lexer": "ipython3",
   "version": "3.11.3"
  }
 },
 "nbformat": 4,
 "nbformat_minor": 5
}
