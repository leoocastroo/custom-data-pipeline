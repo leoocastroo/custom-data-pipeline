{
 "cells": [
  {
   "cell_type": "code",
   "execution_count": 10,
   "id": "9c17ef11-f7fa-4314-9dca-33200d63df53",
   "metadata": {},
   "outputs": [],
   "source": [
    "from delta import configure_spark_with_delta_pip\n",
    "from delta.tables import DeltaTable\n",
    "from pyspark.sql import SparkSession\n",
    "from pyspark.sql.functions import from_json, col"
   ]
  },
  {
   "cell_type": "code",
   "execution_count": 5,
   "id": "7a31675b-26c0-48de-a79b-a3c653efae09",
   "metadata": {},
   "outputs": [],
   "source": [
    "jars = \"\"\"\n",
    "/opt/workspace/utils/jars/spark-sql-kafka-0-10_2.12-3.4.0.jar,\n",
    "/opt/workspace/utils/jars/kafka-clients-3.3.2.jar,\n",
    "/opt/workspace/utils/jars/spark-token-provider-kafka-0-10_2.12-3.4.0.jar,\n",
    "/opt/workspace/utils/jars/commons-pool2-2.11.1.jar,\n",
    "/opt/workspace/utils/jars/delta-core_2.12-2.4.0.jar,\n",
    "/opt/workspace/utils/jars/delta-storage-2.4.0.jar\n",
    "\"\"\"\n",
    "\n",
    "builder = (\n",
    "    SparkSession\n",
    "    .builder\n",
    "    .master(\"spark://spark:7077\")\n",
    "    .appName(\"cleaned\")\n",
    "    .config(\"spark.sql.extensions\", \"io.delta.sql.DeltaSparkSessionExtension\") \n",
    "    .config(\"spark.sql.catalog.spark_catalog\", \"org.apache.spark.sql.delta.catalog.DeltaCatalog\")\n",
    "    .config(\"spark.jars\", jars)\n",
    ")\n",
    "\n",
    "spark = configure_spark_with_delta_pip(builder).getOrCreate()"
   ]
  },
  {
   "cell_type": "code",
   "execution_count": 17,
   "id": "f8e22883-7ed6-47cc-bc43-1184834e0443",
   "metadata": {},
   "outputs": [],
   "source": [
    "df = spark.read.format('delta').load('/opt/workspace/data/raw/test/')"
   ]
  },
  {
   "cell_type": "code",
   "execution_count": 38,
   "id": "5d14e094-15ac-46fe-b03c-974847273386",
   "metadata": {},
   "outputs": [],
   "source": [
    "schema = \"\"\"\n",
    "payload STRUCT<\n",
    "    before:STRING,\n",
    "    after:STRUCT<\n",
    "        id: STRING, \n",
    "        first_name: STRING, \n",
    "        last_name: STRING, \n",
    "        email: STRING\n",
    "    >, \n",
    "    op: STRING\n",
    ">\n",
    "\"\"\""
   ]
  },
  {
   "cell_type": "code",
   "execution_count": 39,
   "id": "a3f63050-8665-4022-a81b-6b1ab044548b",
   "metadata": {},
   "outputs": [
    {
     "data": {
      "text/plain": [
       "DataFrame[id: string, first_name: string, last_name: string, email: string, op: string]"
      ]
     },
     "execution_count": 39,
     "metadata": {},
     "output_type": "execute_result"
    }
   ],
   "source": [
    "(\n",
    "    df\n",
    "    .withColumn('json', from_json(col('value'), schema))\n",
    "    .withColumn('id', col('json.payload.after.id'))\n",
    "    .withColumn('first_name', col('json.payload.after.first_name'))\n",
    "    .withColumn('last_name', col('json.payload.after.last_name'))\n",
    "    .withColumn('email', col('json.payload.after.email'))\n",
    "    .withColumn('op', col('json.payload.op'))\n",
    "    .select(\n",
    "        'id',\n",
    "        'first_name',\n",
    "        'last_name',\n",
    "        'email',\n",
    "        'op'\n",
    "    )\n",
    ")"
   ]
  },
  {
   "cell_type": "code",
   "execution_count": 13,
   "id": "9ef0be3c-594d-4639-b5fe-16f01f2c6031",
   "metadata": {},
   "outputs": [
    {
     "name": "stdout",
     "output_type": "stream",
     "text": [
      "+--------------------+--------------------+--------------------+\n",
      "|                 key|               value|             new_col|\n",
      "+--------------------+--------------------+--------------------+\n",
      "|{\"schema\":{\"type\"...|{\"schema\":{\"type\"...|{{null, {\"id\":100...|\n",
      "|{\"schema\":{\"type\"...|{\"schema\":{\"type\"...|{{null, {\"id\":100...|\n",
      "|{\"schema\":{\"type\"...|{\"schema\":{\"type\"...|{{null, {\"id\":100...|\n",
      "|{\"schema\":{\"type\"...|{\"schema\":{\"type\"...|{{null, {\"id\":100...|\n",
      "|{\"schema\":{\"type\"...|{\"schema\":{\"type\"...|{{null, {\"id\":100...|\n",
      "+--------------------+--------------------+--------------------+\n",
      "\n"
     ]
    }
   ],
   "source": [
    "df.show()"
   ]
  },
  {
   "cell_type": "code",
   "execution_count": 3,
   "id": "a1b1ed9d-ba7b-4817-96c8-70a134d8f526",
   "metadata": {},
   "outputs": [],
   "source": [
    "spark.stop()"
   ]
  },
  {
   "cell_type": "code",
   "execution_count": null,
   "id": "5eef6f85-ed67-4c04-9f88-4926b60247b8",
   "metadata": {},
   "outputs": [],
   "source": []
  }
 ],
 "metadata": {
  "kernelspec": {
   "display_name": "Python 3 (ipykernel)",
   "language": "python",
   "name": "python3"
  },
  "language_info": {
   "codemirror_mode": {
    "name": "ipython",
    "version": 3
   },
   "file_extension": ".py",
   "mimetype": "text/x-python",
   "name": "python",
   "nbconvert_exporter": "python",
   "pygments_lexer": "ipython3",
   "version": "3.11.3"
  }
 },
 "nbformat": 4,
 "nbformat_minor": 5
}
