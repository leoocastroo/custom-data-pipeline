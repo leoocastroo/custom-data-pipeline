{
 "cells": [
  {
   "cell_type": "code",
   "execution_count": 1,
   "id": "86a16657-dcc1-47f1-839f-bd0dfea25df6",
   "metadata": {
    "tags": []
   },
   "outputs": [],
   "source": [
    "from delta import configure_spark_with_delta_pip\n",
    "from delta.tables import DeltaTable\n",
    "from pyspark.sql import SparkSession"
   ]
  },
  {
   "cell_type": "code",
   "execution_count": 2,
   "id": "f936bb08-2048-4a91-b9bc-db6e705a031c",
   "metadata": {
    "tags": []
   },
   "outputs": [],
   "source": [
    "builder = SparkSession.builder.master(\"spark://spark-master:7077\").appName(\"cleanedApp\") \\\n",
    "    .config(\"spark.sql.extensions\", \"io.delta.sql.DeltaSparkSessionExtension\") \\\n",
    "    .config(\"spark.sql.catalog.spark_catalog\", \"org.apache.spark.sql.delta.catalog.DeltaCatalog\")\n",
    "\n",
    "spark = configure_spark_with_delta_pip(builder).getOrCreate()"
   ]
  },
  {
   "cell_type": "code",
   "execution_count": 29,
   "id": "733f59bf-0d36-4b08-8241-756d5086d41a",
   "metadata": {
    "tags": []
   },
   "outputs": [],
   "source": [
    "df = spark.read.format('delta').load('/opt/workspace/data/raw/iris/')"
   ]
  },
  {
   "cell_type": "code",
   "execution_count": 30,
   "id": "721e2f77-97f7-4c66-b4b2-51e2058ee2fc",
   "metadata": {
    "tags": []
   },
   "outputs": [],
   "source": [
    "df = df.drop_duplicates()"
   ]
  },
  {
   "cell_type": "code",
   "execution_count": 31,
   "id": "c095cd88-4d44-42bb-9efb-c320c8e13a48",
   "metadata": {
    "tags": []
   },
   "outputs": [],
   "source": [
    "df.write.mode('overwrite').format('delta').save('/opt/workspace/data/cleaned/iris/')"
   ]
  },
  {
   "cell_type": "code",
   "execution_count": 32,
   "id": "0dbd4b0a-0425-4d2f-acb5-a2bb19c5b351",
   "metadata": {
    "tags": []
   },
   "outputs": [],
   "source": [
    "spark.stop()"
   ]
  }
 ],
 "metadata": {
  "kernelspec": {
   "display_name": "Python 3 (ipykernel)",
   "language": "python",
   "name": "python3"
  },
  "language_info": {
   "codemirror_mode": {
    "name": "ipython",
    "version": 3
   },
   "file_extension": ".py",
   "mimetype": "text/x-python",
   "name": "python",
   "nbconvert_exporter": "python",
   "pygments_lexer": "ipython3",
   "version": "3.10.10"
  }
 },
 "nbformat": 4,
 "nbformat_minor": 5
}
